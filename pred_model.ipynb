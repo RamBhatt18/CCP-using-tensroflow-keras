{
  "metadata": {
    "kernelspec": {
      "language": "python",
      "display_name": "Python 3",
      "name": "python3"
    },
    "language_info": {
      "name": "python",
      "version": "3.11.11",
      "mimetype": "text/x-python",
      "codemirror_mode": {
        "name": "ipython",
        "version": 3
      },
      "pygments_lexer": "ipython3",
      "nbconvert_exporter": "python",
      "file_extension": ".py"
    },
    "kaggle": {
      "accelerator": "none",
      "dataSources": [
        {
          "sourceId": 12280019,
          "sourceType": "datasetVersion",
          "datasetId": 7738835
        }
      ],
      "dockerImageVersionId": 31040,
      "isInternetEnabled": true,
      "language": "python",
      "sourceType": "notebook",
      "isGpuEnabled": false
    },
    "colab": {
      "name": "notebook1e13e22ea5",
      "provenance": []
    }
  },
  "nbformat_minor": 0,
  "nbformat": 4,
  "cells": [
    {
      "source": [
        "# IMPORTANT: SOME KAGGLE DATA SOURCES ARE PRIVATE\n",
        "# RUN THIS CELL IN ORDER TO IMPORT YOUR KAGGLE DATA SOURCES.\n",
        "import kagglehub\n",
        "kagglehub.login()\n"
      ],
      "metadata": {
        "id": "Y_M_XZMs3oUc"
      },
      "cell_type": "code",
      "outputs": [],
      "execution_count": null
    },
    {
      "source": [
        "# IMPORTANT: RUN THIS CELL IN ORDER TO IMPORT YOUR KAGGLE DATA SOURCES,\n",
        "# THEN FEEL FREE TO DELETE THIS CELL.\n",
        "# NOTE: THIS NOTEBOOK ENVIRONMENT DIFFERS FROM KAGGLE'S PYTHON\n",
        "# ENVIRONMENT SO THERE MAY BE MISSING LIBRARIES USED BY YOUR\n",
        "# NOTEBOOK.\n",
        "\n",
        "rambhatt18_pred_dataset_path = kagglehub.dataset_download('rambhatt18/pred-dataset')\n",
        "\n",
        "print('Data source import complete.')\n"
      ],
      "metadata": {
        "id": "gHbQ9FyP3oUf"
      },
      "cell_type": "code",
      "outputs": [],
      "execution_count": null
    },
    {
      "cell_type": "code",
      "source": [
        "# This Python 3 environment comes with many helpful analytics libraries installed\n",
        "# It is defined by the kaggle/python Docker image: https://github.com/kaggle/docker-python\n",
        "# For example, here's several helpful packages to load\n",
        "\n",
        "import numpy as np # linear algebra\n",
        "import pandas as pd # data processing, CSV file I/O (e.g. pd.read_csv)\n",
        "\n",
        "# Input data files are available in the read-only \"../input/\" directory\n",
        "# For example, running this (by clicking run or pressing Shift+Enter) will list all files under the input directory\n",
        "\n",
        "import os\n",
        "for dirname, _, filenames in os.walk('/kaggle/input'):\n",
        "    for filename in filenames:\n",
        "        print(os.path.join(dirname, filename))\n",
        "\n",
        "# You can write up to 20GB to the current directory (/kaggle/working/) that gets preserved as output when you create a version using \"Save & Run All\"\n",
        "# You can also write temporary files to /kaggle/temp/, but they won't be saved outside of the current session"
      ],
      "metadata": {
        "_uuid": "8f2839f25d086af736a60e9eeb907d3b93b6e0e5",
        "_cell_guid": "b1076dfc-b9ad-4769-8c92-a6c4dae69d19",
        "trusted": true,
        "execution": {
          "iopub.status.busy": "2025-06-25T11:02:29.012547Z",
          "iopub.execute_input": "2025-06-25T11:02:29.013306Z",
          "iopub.status.idle": "2025-06-25T11:02:29.374316Z",
          "shell.execute_reply.started": "2025-06-25T11:02:29.013268Z",
          "shell.execute_reply": "2025-06-25T11:02:29.373128Z"
        },
        "id": "Gas761ob3oUi",
        "outputId": "f3d1c07b-3f30-4440-e415-bbda1de5f95d"
      },
      "outputs": [
        {
          "name": "stdout",
          "text": "/kaggle/input/pred-dataset/Churn_Modelling.csv\n",
          "output_type": "stream"
        }
      ],
      "execution_count": null
    },
    {
      "cell_type": "code",
      "source": [
        "df=pd.read_csv('/kaggle/input/pred-dataset/Churn_Modelling.csv')"
      ],
      "metadata": {
        "trusted": true,
        "execution": {
          "iopub.status.busy": "2025-06-25T11:02:35.958214Z",
          "iopub.execute_input": "2025-06-25T11:02:35.958676Z",
          "iopub.status.idle": "2025-06-25T11:02:36.022436Z",
          "shell.execute_reply.started": "2025-06-25T11:02:35.958648Z",
          "shell.execute_reply": "2025-06-25T11:02:36.021335Z"
        },
        "id": "KJiZo9Ez3oUj"
      },
      "outputs": [],
      "execution_count": null
    },
    {
      "cell_type": "code",
      "source": [
        "df.head()\n"
      ],
      "metadata": {
        "trusted": true,
        "execution": {
          "iopub.status.busy": "2025-06-25T11:03:15.15289Z",
          "iopub.execute_input": "2025-06-25T11:03:15.153199Z",
          "iopub.status.idle": "2025-06-25T11:03:15.182818Z",
          "shell.execute_reply.started": "2025-06-25T11:03:15.153172Z",
          "shell.execute_reply": "2025-06-25T11:03:15.181594Z"
        },
        "id": "iv2USPCM3oUj",
        "outputId": "2070b210-2f73-49af-f881-94b4049cbeae"
      },
      "outputs": [
        {
          "execution_count": 5,
          "output_type": "execute_result",
          "data": {
            "text/plain": "   RowNumber  CustomerId   Surname  CreditScore Geography  Gender  Age  \\\n0          1    15634602  Hargrave          619    France  Female   42   \n1          2    15647311      Hill          608     Spain  Female   41   \n2          3    15619304      Onio          502    France  Female   42   \n3          4    15701354      Boni          699    France  Female   39   \n4          5    15737888  Mitchell          850     Spain  Female   43   \n\n   Tenure    Balance  NumOfProducts  HasCrCard  IsActiveMember  \\\n0       2       0.00              1          1               1   \n1       1   83807.86              1          0               1   \n2       8  159660.80              3          1               0   \n3       1       0.00              2          0               0   \n4       2  125510.82              1          1               1   \n\n   EstimatedSalary  Exited  \n0        101348.88       1  \n1        112542.58       0  \n2        113931.57       1  \n3         93826.63       0  \n4         79084.10       0  ",
            "text/html": "<div>\n<style scoped>\n    .dataframe tbody tr th:only-of-type {\n        vertical-align: middle;\n    }\n\n    .dataframe tbody tr th {\n        vertical-align: top;\n    }\n\n    .dataframe thead th {\n        text-align: right;\n    }\n</style>\n<table border=\"1\" class=\"dataframe\">\n  <thead>\n    <tr style=\"text-align: right;\">\n      <th></th>\n      <th>RowNumber</th>\n      <th>CustomerId</th>\n      <th>Surname</th>\n      <th>CreditScore</th>\n      <th>Geography</th>\n      <th>Gender</th>\n      <th>Age</th>\n      <th>Tenure</th>\n      <th>Balance</th>\n      <th>NumOfProducts</th>\n      <th>HasCrCard</th>\n      <th>IsActiveMember</th>\n      <th>EstimatedSalary</th>\n      <th>Exited</th>\n    </tr>\n  </thead>\n  <tbody>\n    <tr>\n      <th>0</th>\n      <td>1</td>\n      <td>15634602</td>\n      <td>Hargrave</td>\n      <td>619</td>\n      <td>France</td>\n      <td>Female</td>\n      <td>42</td>\n      <td>2</td>\n      <td>0.00</td>\n      <td>1</td>\n      <td>1</td>\n      <td>1</td>\n      <td>101348.88</td>\n      <td>1</td>\n    </tr>\n    <tr>\n      <th>1</th>\n      <td>2</td>\n      <td>15647311</td>\n      <td>Hill</td>\n      <td>608</td>\n      <td>Spain</td>\n      <td>Female</td>\n      <td>41</td>\n      <td>1</td>\n      <td>83807.86</td>\n      <td>1</td>\n      <td>0</td>\n      <td>1</td>\n      <td>112542.58</td>\n      <td>0</td>\n    </tr>\n    <tr>\n      <th>2</th>\n      <td>3</td>\n      <td>15619304</td>\n      <td>Onio</td>\n      <td>502</td>\n      <td>France</td>\n      <td>Female</td>\n      <td>42</td>\n      <td>8</td>\n      <td>159660.80</td>\n      <td>3</td>\n      <td>1</td>\n      <td>0</td>\n      <td>113931.57</td>\n      <td>1</td>\n    </tr>\n    <tr>\n      <th>3</th>\n      <td>4</td>\n      <td>15701354</td>\n      <td>Boni</td>\n      <td>699</td>\n      <td>France</td>\n      <td>Female</td>\n      <td>39</td>\n      <td>1</td>\n      <td>0.00</td>\n      <td>2</td>\n      <td>0</td>\n      <td>0</td>\n      <td>93826.63</td>\n      <td>0</td>\n    </tr>\n    <tr>\n      <th>4</th>\n      <td>5</td>\n      <td>15737888</td>\n      <td>Mitchell</td>\n      <td>850</td>\n      <td>Spain</td>\n      <td>Female</td>\n      <td>43</td>\n      <td>2</td>\n      <td>125510.82</td>\n      <td>1</td>\n      <td>1</td>\n      <td>1</td>\n      <td>79084.10</td>\n      <td>0</td>\n    </tr>\n  </tbody>\n</table>\n</div>"
          },
          "metadata": {}
        }
      ],
      "execution_count": null
    },
    {
      "cell_type": "code",
      "source": [
        "df.info()"
      ],
      "metadata": {
        "trusted": true,
        "execution": {
          "iopub.status.busy": "2025-06-25T11:04:05.583777Z",
          "iopub.execute_input": "2025-06-25T11:04:05.584082Z",
          "iopub.status.idle": "2025-06-25T11:04:05.61393Z",
          "shell.execute_reply.started": "2025-06-25T11:04:05.584057Z",
          "shell.execute_reply": "2025-06-25T11:04:05.61278Z"
        },
        "id": "Hs2mxfl33oUj",
        "outputId": "c9f58c5e-c71f-4998-9bd4-500ca2d6bae4"
      },
      "outputs": [
        {
          "name": "stdout",
          "text": "<class 'pandas.core.frame.DataFrame'>\nRangeIndex: 10000 entries, 0 to 9999\nData columns (total 14 columns):\n #   Column           Non-Null Count  Dtype  \n---  ------           --------------  -----  \n 0   RowNumber        10000 non-null  int64  \n 1   CustomerId       10000 non-null  int64  \n 2   Surname          10000 non-null  object \n 3   CreditScore      10000 non-null  int64  \n 4   Geography        10000 non-null  object \n 5   Gender           10000 non-null  object \n 6   Age              10000 non-null  int64  \n 7   Tenure           10000 non-null  int64  \n 8   Balance          10000 non-null  float64\n 9   NumOfProducts    10000 non-null  int64  \n 10  HasCrCard        10000 non-null  int64  \n 11  IsActiveMember   10000 non-null  int64  \n 12  EstimatedSalary  10000 non-null  float64\n 13  Exited           10000 non-null  int64  \ndtypes: float64(2), int64(9), object(3)\nmemory usage: 1.1+ MB\n",
          "output_type": "stream"
        }
      ],
      "execution_count": null
    },
    {
      "cell_type": "code",
      "source": [
        "df.duplicated().sum()"
      ],
      "metadata": {
        "trusted": true,
        "execution": {
          "iopub.status.busy": "2025-06-25T11:04:22.790397Z",
          "iopub.execute_input": "2025-06-25T11:04:22.790758Z",
          "iopub.status.idle": "2025-06-25T11:04:22.804343Z",
          "shell.execute_reply.started": "2025-06-25T11:04:22.79073Z",
          "shell.execute_reply": "2025-06-25T11:04:22.803566Z"
        },
        "id": "PjLre4Yf3oUk",
        "outputId": "a6893c7b-7b43-475c-f6eb-dc3e221b590b"
      },
      "outputs": [
        {
          "execution_count": 7,
          "output_type": "execute_result",
          "data": {
            "text/plain": "0"
          },
          "metadata": {}
        }
      ],
      "execution_count": null
    },
    {
      "cell_type": "code",
      "source": [
        "df['Exited'].value_counts()"
      ],
      "metadata": {
        "trusted": true,
        "execution": {
          "iopub.status.busy": "2025-06-25T11:04:35.805405Z",
          "iopub.execute_input": "2025-06-25T11:04:35.80578Z",
          "iopub.status.idle": "2025-06-25T11:04:35.815899Z",
          "shell.execute_reply.started": "2025-06-25T11:04:35.805752Z",
          "shell.execute_reply": "2025-06-25T11:04:35.814812Z"
        },
        "id": "HBlV7Y7e3oUk",
        "outputId": "12f6aa68-46e2-4473-d563-8c6f074cc1b2"
      },
      "outputs": [
        {
          "execution_count": 8,
          "output_type": "execute_result",
          "data": {
            "text/plain": "Exited\n0    7963\n1    2037\nName: count, dtype: int64"
          },
          "metadata": {}
        }
      ],
      "execution_count": null
    },
    {
      "cell_type": "code",
      "source": [
        "df['Geography'].value_counts()"
      ],
      "metadata": {
        "trusted": true,
        "execution": {
          "iopub.status.busy": "2025-06-25T11:05:13.86767Z",
          "iopub.execute_input": "2025-06-25T11:05:13.867994Z",
          "iopub.status.idle": "2025-06-25T11:05:13.876684Z",
          "shell.execute_reply.started": "2025-06-25T11:05:13.867967Z",
          "shell.execute_reply": "2025-06-25T11:05:13.875553Z"
        },
        "id": "Qa9sBujS3oUl",
        "outputId": "c3effa3e-605d-4746-8e73-8bfda0eb9061"
      },
      "outputs": [
        {
          "execution_count": 9,
          "output_type": "execute_result",
          "data": {
            "text/plain": "Geography\nFrance     5014\nGermany    2509\nSpain      2477\nName: count, dtype: int64"
          },
          "metadata": {}
        }
      ],
      "execution_count": null
    },
    {
      "cell_type": "code",
      "source": [
        "df['Gender'].value_counts()"
      ],
      "metadata": {
        "trusted": true,
        "execution": {
          "iopub.status.busy": "2025-06-25T11:05:38.342766Z",
          "iopub.execute_input": "2025-06-25T11:05:38.343065Z",
          "iopub.status.idle": "2025-06-25T11:05:38.352756Z",
          "shell.execute_reply.started": "2025-06-25T11:05:38.343041Z",
          "shell.execute_reply": "2025-06-25T11:05:38.351652Z"
        },
        "id": "x1e0FTZ83oUl",
        "outputId": "33dfb80b-0927-4d12-98ee-b02115d2a645"
      },
      "outputs": [
        {
          "execution_count": 10,
          "output_type": "execute_result",
          "data": {
            "text/plain": "Gender\nMale      5457\nFemale    4543\nName: count, dtype: int64"
          },
          "metadata": {}
        }
      ],
      "execution_count": null
    },
    {
      "cell_type": "code",
      "source": [
        "df.drop(columns=['RowNumber','CustomerId','Surname'],inplace=True)"
      ],
      "metadata": {
        "trusted": true,
        "execution": {
          "iopub.status.busy": "2025-06-25T11:06:23.420435Z",
          "iopub.execute_input": "2025-06-25T11:06:23.42077Z",
          "iopub.status.idle": "2025-06-25T11:06:23.430052Z",
          "shell.execute_reply.started": "2025-06-25T11:06:23.420744Z",
          "shell.execute_reply": "2025-06-25T11:06:23.429013Z"
        },
        "id": "OZO6vhsT3oUl"
      },
      "outputs": [],
      "execution_count": null
    },
    {
      "cell_type": "code",
      "source": [
        "df.head()"
      ],
      "metadata": {
        "trusted": true,
        "execution": {
          "iopub.status.busy": "2025-06-25T11:06:31.238531Z",
          "iopub.execute_input": "2025-06-25T11:06:31.238873Z",
          "iopub.status.idle": "2025-06-25T11:06:31.251297Z",
          "shell.execute_reply.started": "2025-06-25T11:06:31.23885Z",
          "shell.execute_reply": "2025-06-25T11:06:31.250524Z"
        },
        "id": "toEWGFUb3oUl",
        "outputId": "bee50b58-7208-4b0a-f7e5-4622fa2ad291"
      },
      "outputs": [
        {
          "execution_count": 12,
          "output_type": "execute_result",
          "data": {
            "text/plain": "   CreditScore Geography  Gender  Age  Tenure    Balance  NumOfProducts  \\\n0          619    France  Female   42       2       0.00              1   \n1          608     Spain  Female   41       1   83807.86              1   \n2          502    France  Female   42       8  159660.80              3   \n3          699    France  Female   39       1       0.00              2   \n4          850     Spain  Female   43       2  125510.82              1   \n\n   HasCrCard  IsActiveMember  EstimatedSalary  Exited  \n0          1               1        101348.88       1  \n1          0               1        112542.58       0  \n2          1               0        113931.57       1  \n3          0               0         93826.63       0  \n4          1               1         79084.10       0  ",
            "text/html": "<div>\n<style scoped>\n    .dataframe tbody tr th:only-of-type {\n        vertical-align: middle;\n    }\n\n    .dataframe tbody tr th {\n        vertical-align: top;\n    }\n\n    .dataframe thead th {\n        text-align: right;\n    }\n</style>\n<table border=\"1\" class=\"dataframe\">\n  <thead>\n    <tr style=\"text-align: right;\">\n      <th></th>\n      <th>CreditScore</th>\n      <th>Geography</th>\n      <th>Gender</th>\n      <th>Age</th>\n      <th>Tenure</th>\n      <th>Balance</th>\n      <th>NumOfProducts</th>\n      <th>HasCrCard</th>\n      <th>IsActiveMember</th>\n      <th>EstimatedSalary</th>\n      <th>Exited</th>\n    </tr>\n  </thead>\n  <tbody>\n    <tr>\n      <th>0</th>\n      <td>619</td>\n      <td>France</td>\n      <td>Female</td>\n      <td>42</td>\n      <td>2</td>\n      <td>0.00</td>\n      <td>1</td>\n      <td>1</td>\n      <td>1</td>\n      <td>101348.88</td>\n      <td>1</td>\n    </tr>\n    <tr>\n      <th>1</th>\n      <td>608</td>\n      <td>Spain</td>\n      <td>Female</td>\n      <td>41</td>\n      <td>1</td>\n      <td>83807.86</td>\n      <td>1</td>\n      <td>0</td>\n      <td>1</td>\n      <td>112542.58</td>\n      <td>0</td>\n    </tr>\n    <tr>\n      <th>2</th>\n      <td>502</td>\n      <td>France</td>\n      <td>Female</td>\n      <td>42</td>\n      <td>8</td>\n      <td>159660.80</td>\n      <td>3</td>\n      <td>1</td>\n      <td>0</td>\n      <td>113931.57</td>\n      <td>1</td>\n    </tr>\n    <tr>\n      <th>3</th>\n      <td>699</td>\n      <td>France</td>\n      <td>Female</td>\n      <td>39</td>\n      <td>1</td>\n      <td>0.00</td>\n      <td>2</td>\n      <td>0</td>\n      <td>0</td>\n      <td>93826.63</td>\n      <td>0</td>\n    </tr>\n    <tr>\n      <th>4</th>\n      <td>850</td>\n      <td>Spain</td>\n      <td>Female</td>\n      <td>43</td>\n      <td>2</td>\n      <td>125510.82</td>\n      <td>1</td>\n      <td>1</td>\n      <td>1</td>\n      <td>79084.10</td>\n      <td>0</td>\n    </tr>\n  </tbody>\n</table>\n</div>"
          },
          "metadata": {}
        }
      ],
      "execution_count": null
    },
    {
      "cell_type": "code",
      "source": [
        "df=pd.get_dummies(df,columns=['Geography','Gender'],drop_first=True)"
      ],
      "metadata": {
        "trusted": true,
        "execution": {
          "iopub.status.busy": "2025-06-25T11:12:28.617386Z",
          "iopub.execute_input": "2025-06-25T11:12:28.617733Z",
          "iopub.status.idle": "2025-06-25T11:12:28.631827Z",
          "shell.execute_reply.started": "2025-06-25T11:12:28.617707Z",
          "shell.execute_reply": "2025-06-25T11:12:28.630826Z"
        },
        "id": "kJ_dYG9N3oUm"
      },
      "outputs": [],
      "execution_count": null
    },
    {
      "cell_type": "code",
      "source": [
        "x=df.drop(columns=['Exited'])\n",
        "y=df['Exited']\n",
        "from sklearn.model_selection import train_test_split\n",
        "x_train,x_test,y_train,y_test=train_test_split(x,y,test_size=0.2,random_state=1)"
      ],
      "metadata": {
        "trusted": true,
        "execution": {
          "iopub.status.busy": "2025-06-25T11:12:29.999891Z",
          "iopub.execute_input": "2025-06-25T11:12:30.000523Z",
          "iopub.status.idle": "2025-06-25T11:12:30.010804Z",
          "shell.execute_reply.started": "2025-06-25T11:12:30.000492Z",
          "shell.execute_reply": "2025-06-25T11:12:30.009764Z"
        },
        "id": "xMzbt6bH3oUm"
      },
      "outputs": [],
      "execution_count": null
    },
    {
      "cell_type": "code",
      "source": [
        "x"
      ],
      "metadata": {
        "trusted": true,
        "execution": {
          "iopub.status.busy": "2025-06-25T11:12:31.576859Z",
          "iopub.execute_input": "2025-06-25T11:12:31.577157Z",
          "iopub.status.idle": "2025-06-25T11:12:31.592779Z",
          "shell.execute_reply.started": "2025-06-25T11:12:31.577138Z",
          "shell.execute_reply": "2025-06-25T11:12:31.591699Z"
        },
        "id": "MmClARDL3oUm",
        "outputId": "50fff2df-83e1-40e6-934a-c26dfe33a494"
      },
      "outputs": [
        {
          "execution_count": 25,
          "output_type": "execute_result",
          "data": {
            "text/plain": "      CreditScore  Age  Tenure    Balance  NumOfProducts  HasCrCard  \\\n0             619   42       2       0.00              1          1   \n1             608   41       1   83807.86              1          0   \n2             502   42       8  159660.80              3          1   \n3             699   39       1       0.00              2          0   \n4             850   43       2  125510.82              1          1   \n...           ...  ...     ...        ...            ...        ...   \n9995          771   39       5       0.00              2          1   \n9996          516   35      10   57369.61              1          1   \n9997          709   36       7       0.00              1          0   \n9998          772   42       3   75075.31              2          1   \n9999          792   28       4  130142.79              1          1   \n\n      IsActiveMember  EstimatedSalary  Geography_Germany  Geography_Spain  \\\n0                  1        101348.88              False            False   \n1                  1        112542.58              False             True   \n2                  0        113931.57              False            False   \n3                  0         93826.63              False            False   \n4                  1         79084.10              False             True   \n...              ...              ...                ...              ...   \n9995               0         96270.64              False            False   \n9996               1        101699.77              False            False   \n9997               1         42085.58              False            False   \n9998               0         92888.52               True            False   \n9999               0         38190.78              False            False   \n\n      Gender_Male  \n0           False  \n1           False  \n2           False  \n3           False  \n4           False  \n...           ...  \n9995         True  \n9996         True  \n9997        False  \n9998         True  \n9999        False  \n\n[10000 rows x 11 columns]",
            "text/html": "<div>\n<style scoped>\n    .dataframe tbody tr th:only-of-type {\n        vertical-align: middle;\n    }\n\n    .dataframe tbody tr th {\n        vertical-align: top;\n    }\n\n    .dataframe thead th {\n        text-align: right;\n    }\n</style>\n<table border=\"1\" class=\"dataframe\">\n  <thead>\n    <tr style=\"text-align: right;\">\n      <th></th>\n      <th>CreditScore</th>\n      <th>Age</th>\n      <th>Tenure</th>\n      <th>Balance</th>\n      <th>NumOfProducts</th>\n      <th>HasCrCard</th>\n      <th>IsActiveMember</th>\n      <th>EstimatedSalary</th>\n      <th>Geography_Germany</th>\n      <th>Geography_Spain</th>\n      <th>Gender_Male</th>\n    </tr>\n  </thead>\n  <tbody>\n    <tr>\n      <th>0</th>\n      <td>619</td>\n      <td>42</td>\n      <td>2</td>\n      <td>0.00</td>\n      <td>1</td>\n      <td>1</td>\n      <td>1</td>\n      <td>101348.88</td>\n      <td>False</td>\n      <td>False</td>\n      <td>False</td>\n    </tr>\n    <tr>\n      <th>1</th>\n      <td>608</td>\n      <td>41</td>\n      <td>1</td>\n      <td>83807.86</td>\n      <td>1</td>\n      <td>0</td>\n      <td>1</td>\n      <td>112542.58</td>\n      <td>False</td>\n      <td>True</td>\n      <td>False</td>\n    </tr>\n    <tr>\n      <th>2</th>\n      <td>502</td>\n      <td>42</td>\n      <td>8</td>\n      <td>159660.80</td>\n      <td>3</td>\n      <td>1</td>\n      <td>0</td>\n      <td>113931.57</td>\n      <td>False</td>\n      <td>False</td>\n      <td>False</td>\n    </tr>\n    <tr>\n      <th>3</th>\n      <td>699</td>\n      <td>39</td>\n      <td>1</td>\n      <td>0.00</td>\n      <td>2</td>\n      <td>0</td>\n      <td>0</td>\n      <td>93826.63</td>\n      <td>False</td>\n      <td>False</td>\n      <td>False</td>\n    </tr>\n    <tr>\n      <th>4</th>\n      <td>850</td>\n      <td>43</td>\n      <td>2</td>\n      <td>125510.82</td>\n      <td>1</td>\n      <td>1</td>\n      <td>1</td>\n      <td>79084.10</td>\n      <td>False</td>\n      <td>True</td>\n      <td>False</td>\n    </tr>\n    <tr>\n      <th>...</th>\n      <td>...</td>\n      <td>...</td>\n      <td>...</td>\n      <td>...</td>\n      <td>...</td>\n      <td>...</td>\n      <td>...</td>\n      <td>...</td>\n      <td>...</td>\n      <td>...</td>\n      <td>...</td>\n    </tr>\n    <tr>\n      <th>9995</th>\n      <td>771</td>\n      <td>39</td>\n      <td>5</td>\n      <td>0.00</td>\n      <td>2</td>\n      <td>1</td>\n      <td>0</td>\n      <td>96270.64</td>\n      <td>False</td>\n      <td>False</td>\n      <td>True</td>\n    </tr>\n    <tr>\n      <th>9996</th>\n      <td>516</td>\n      <td>35</td>\n      <td>10</td>\n      <td>57369.61</td>\n      <td>1</td>\n      <td>1</td>\n      <td>1</td>\n      <td>101699.77</td>\n      <td>False</td>\n      <td>False</td>\n      <td>True</td>\n    </tr>\n    <tr>\n      <th>9997</th>\n      <td>709</td>\n      <td>36</td>\n      <td>7</td>\n      <td>0.00</td>\n      <td>1</td>\n      <td>0</td>\n      <td>1</td>\n      <td>42085.58</td>\n      <td>False</td>\n      <td>False</td>\n      <td>False</td>\n    </tr>\n    <tr>\n      <th>9998</th>\n      <td>772</td>\n      <td>42</td>\n      <td>3</td>\n      <td>75075.31</td>\n      <td>2</td>\n      <td>1</td>\n      <td>0</td>\n      <td>92888.52</td>\n      <td>True</td>\n      <td>False</td>\n      <td>True</td>\n    </tr>\n    <tr>\n      <th>9999</th>\n      <td>792</td>\n      <td>28</td>\n      <td>4</td>\n      <td>130142.79</td>\n      <td>1</td>\n      <td>1</td>\n      <td>0</td>\n      <td>38190.78</td>\n      <td>False</td>\n      <td>False</td>\n      <td>False</td>\n    </tr>\n  </tbody>\n</table>\n<p>10000 rows × 11 columns</p>\n</div>"
          },
          "metadata": {}
        }
      ],
      "execution_count": null
    },
    {
      "cell_type": "code",
      "source": [
        "y"
      ],
      "metadata": {
        "trusted": true,
        "execution": {
          "iopub.status.busy": "2025-06-25T11:12:33.981435Z",
          "iopub.execute_input": "2025-06-25T11:12:33.981769Z",
          "iopub.status.idle": "2025-06-25T11:12:33.990317Z",
          "shell.execute_reply.started": "2025-06-25T11:12:33.981744Z",
          "shell.execute_reply": "2025-06-25T11:12:33.989288Z"
        },
        "id": "BtDlK8QM3oUm",
        "outputId": "ac7f53c3-a931-4c27-a864-40f0b415c2c7"
      },
      "outputs": [
        {
          "execution_count": 26,
          "output_type": "execute_result",
          "data": {
            "text/plain": "0       1\n1       0\n2       1\n3       0\n4       0\n       ..\n9995    0\n9996    0\n9997    1\n9998    1\n9999    0\nName: Exited, Length: 10000, dtype: int64"
          },
          "metadata": {}
        }
      ],
      "execution_count": null
    },
    {
      "cell_type": "code",
      "source": [
        "x_train.shape"
      ],
      "metadata": {
        "trusted": true,
        "execution": {
          "iopub.status.busy": "2025-06-25T11:12:36.36406Z",
          "iopub.execute_input": "2025-06-25T11:12:36.364826Z",
          "iopub.status.idle": "2025-06-25T11:12:36.370845Z",
          "shell.execute_reply.started": "2025-06-25T11:12:36.364792Z",
          "shell.execute_reply": "2025-06-25T11:12:36.369822Z"
        },
        "id": "q45tnhth3oUm",
        "outputId": "f3dd3f40-136e-43aa-9fda-d70fbfcb2b5a"
      },
      "outputs": [
        {
          "execution_count": 27,
          "output_type": "execute_result",
          "data": {
            "text/plain": "(8000, 11)"
          },
          "metadata": {}
        }
      ],
      "execution_count": null
    },
    {
      "cell_type": "code",
      "source": [
        "from sklearn.preprocessing import StandardScaler"
      ],
      "metadata": {
        "trusted": true,
        "execution": {
          "iopub.status.busy": "2025-06-25T11:12:37.792095Z",
          "iopub.execute_input": "2025-06-25T11:12:37.792462Z",
          "iopub.status.idle": "2025-06-25T11:12:37.796901Z",
          "shell.execute_reply.started": "2025-06-25T11:12:37.792434Z",
          "shell.execute_reply": "2025-06-25T11:12:37.795675Z"
        },
        "id": "j09_TjkB3oUm"
      },
      "outputs": [],
      "execution_count": null
    },
    {
      "cell_type": "code",
      "source": [
        "scaler=StandardScaler()"
      ],
      "metadata": {
        "trusted": true,
        "execution": {
          "iopub.status.busy": "2025-06-25T11:12:39.081772Z",
          "iopub.execute_input": "2025-06-25T11:12:39.082085Z",
          "iopub.status.idle": "2025-06-25T11:12:39.087049Z",
          "shell.execute_reply.started": "2025-06-25T11:12:39.082061Z",
          "shell.execute_reply": "2025-06-25T11:12:39.086088Z"
        },
        "id": "ZJWZPoh23oUm"
      },
      "outputs": [],
      "execution_count": null
    },
    {
      "cell_type": "code",
      "source": [
        "x_train_scaled=scaler.fit_transform(x_train)\n",
        "x_test_scaled=scaler.transform(x_test)"
      ],
      "metadata": {
        "trusted": true,
        "execution": {
          "iopub.status.busy": "2025-06-25T11:12:51.102112Z",
          "iopub.execute_input": "2025-06-25T11:12:51.102852Z",
          "iopub.status.idle": "2025-06-25T11:12:51.12367Z",
          "shell.execute_reply.started": "2025-06-25T11:12:51.102818Z",
          "shell.execute_reply": "2025-06-25T11:12:51.122636Z"
        },
        "id": "8w9QK3Ho3oUn"
      },
      "outputs": [],
      "execution_count": null
    },
    {
      "cell_type": "code",
      "source": [
        "x_train_scaled"
      ],
      "metadata": {
        "trusted": true,
        "execution": {
          "iopub.status.busy": "2025-06-25T11:13:14.23191Z",
          "iopub.execute_input": "2025-06-25T11:13:14.23225Z",
          "iopub.status.idle": "2025-06-25T11:13:14.239665Z",
          "shell.execute_reply.started": "2025-06-25T11:13:14.232226Z",
          "shell.execute_reply": "2025-06-25T11:13:14.238791Z"
        },
        "id": "t38rh3Ew3oUn",
        "outputId": "3815dfce-cade-4c51-a027-0a36a3f43a03"
      },
      "outputs": [
        {
          "execution_count": 32,
          "output_type": "execute_result",
          "data": {
            "text/plain": "array([[-0.23082038, -0.94449979, -0.70174202, ...,  1.71490137,\n        -0.57273139,  0.91509065],\n       [-0.25150912, -0.94449979, -0.35520275, ..., -0.58312392,\n        -0.57273139, -1.09278791],\n       [-0.3963303 ,  0.77498705,  0.33787579, ...,  1.71490137,\n        -0.57273139, -1.09278791],\n       ...,\n       [ 0.22433188,  0.58393295,  1.3774936 , ..., -0.58312392,\n        -0.57273139, -1.09278791],\n       [ 0.13123255,  0.01077067,  1.03095433, ..., -0.58312392,\n        -0.57273139, -1.09278791],\n       [ 1.1656695 ,  0.29735181,  0.33787579, ...,  1.71490137,\n        -0.57273139,  0.91509065]])"
          },
          "metadata": {}
        }
      ],
      "execution_count": null
    },
    {
      "cell_type": "code",
      "source": [
        "import tensorflow\n",
        "from tensorflow import keras\n",
        "from tensorflow.keras import Sequential\n",
        "from tensorflow.keras.layers import Dense"
      ],
      "metadata": {
        "trusted": true,
        "execution": {
          "iopub.status.busy": "2025-06-25T11:14:44.92321Z",
          "iopub.execute_input": "2025-06-25T11:14:44.923555Z",
          "iopub.status.idle": "2025-06-25T11:15:04.613106Z",
          "shell.execute_reply.started": "2025-06-25T11:14:44.923526Z",
          "shell.execute_reply": "2025-06-25T11:15:04.612016Z"
        },
        "id": "xC0d9aj23oUn",
        "outputId": "3bc07c1a-0509-4ec7-8184-5955354459b2"
      },
      "outputs": [
        {
          "name": "stderr",
          "text": "2025-06-25 11:14:47.125507: E external/local_xla/xla/stream_executor/cuda/cuda_fft.cc:477] Unable to register cuFFT factory: Attempting to register factory for plugin cuFFT when one has already been registered\nWARNING: All log messages before absl::InitializeLog() is called are written to STDERR\nE0000 00:00:1750850087.418527      35 cuda_dnn.cc:8310] Unable to register cuDNN factory: Attempting to register factory for plugin cuDNN when one has already been registered\nE0000 00:00:1750850087.501712      35 cuda_blas.cc:1418] Unable to register cuBLAS factory: Attempting to register factory for plugin cuBLAS when one has already been registered\n",
          "output_type": "stream"
        }
      ],
      "execution_count": null
    },
    {
      "cell_type": "code",
      "source": [
        "model=Sequential()\n",
        "\n",
        "model.add(Dense(11,activation='relu',input_dim=11))\n",
        "model.add(Dense(11,activation='relu'))\n",
        "model.add(Dense(1,activation='sigmoid'))"
      ],
      "metadata": {
        "trusted": true,
        "execution": {
          "iopub.status.busy": "2025-06-25T11:23:49.634285Z",
          "iopub.execute_input": "2025-06-25T11:23:49.634745Z",
          "iopub.status.idle": "2025-06-25T11:23:49.678357Z",
          "shell.execute_reply.started": "2025-06-25T11:23:49.634715Z",
          "shell.execute_reply": "2025-06-25T11:23:49.677258Z"
        },
        "id": "UbH2XMUU3oUn",
        "outputId": "d269b4cf-3b80-4196-bc1e-3d9c344e4da2"
      },
      "outputs": [
        {
          "name": "stderr",
          "text": "/usr/local/lib/python3.11/dist-packages/keras/src/layers/core/dense.py:87: UserWarning: Do not pass an `input_shape`/`input_dim` argument to a layer. When using Sequential models, prefer using an `Input(shape)` object as the first layer in the model instead.\n  super().__init__(activity_regularizer=activity_regularizer, **kwargs)\n",
          "output_type": "stream"
        }
      ],
      "execution_count": null
    },
    {
      "cell_type": "code",
      "source": [
        "model.summary()"
      ],
      "metadata": {
        "trusted": true,
        "execution": {
          "iopub.status.busy": "2025-06-25T11:23:51.990857Z",
          "iopub.execute_input": "2025-06-25T11:23:51.991153Z",
          "iopub.status.idle": "2025-06-25T11:23:52.010245Z",
          "shell.execute_reply.started": "2025-06-25T11:23:51.991132Z",
          "shell.execute_reply": "2025-06-25T11:23:52.009342Z"
        },
        "id": "7hTLRLys3oUn",
        "outputId": "5de84b3e-017a-4f07-edd5-e42111ba4cb0"
      },
      "outputs": [
        {
          "output_type": "display_data",
          "data": {
            "text/plain": "\u001b[1mModel: \"sequential_1\"\u001b[0m\n",
            "text/html": "<pre style=\"white-space:pre;overflow-x:auto;line-height:normal;font-family:Menlo,'DejaVu Sans Mono',consolas,'Courier New',monospace\"><span style=\"font-weight: bold\">Model: \"sequential_1\"</span>\n</pre>\n"
          },
          "metadata": {}
        },
        {
          "output_type": "display_data",
          "data": {
            "text/plain": "┏━━━━━━━━━━━━━━━━━━━━━━━━━━━━━━━━━━━━━━┳━━━━━━━━━━━━━━━━━━━━━━━━━━━━━┳━━━━━━━━━━━━━━━━━┓\n┃\u001b[1m \u001b[0m\u001b[1mLayer (type)                        \u001b[0m\u001b[1m \u001b[0m┃\u001b[1m \u001b[0m\u001b[1mOutput Shape               \u001b[0m\u001b[1m \u001b[0m┃\u001b[1m \u001b[0m\u001b[1m        Param #\u001b[0m\u001b[1m \u001b[0m┃\n┡━━━━━━━━━━━━━━━━━━━━━━━━━━━━━━━━━━━━━━╇━━━━━━━━━━━━━━━━━━━━━━━━━━━━━╇━━━━━━━━━━━━━━━━━┩\n│ dense_2 (\u001b[38;5;33mDense\u001b[0m)                      │ (\u001b[38;5;45mNone\u001b[0m, \u001b[38;5;34m11\u001b[0m)                  │             \u001b[38;5;34m132\u001b[0m │\n├──────────────────────────────────────┼─────────────────────────────┼─────────────────┤\n│ dense_3 (\u001b[38;5;33mDense\u001b[0m)                      │ (\u001b[38;5;45mNone\u001b[0m, \u001b[38;5;34m11\u001b[0m)                  │             \u001b[38;5;34m132\u001b[0m │\n├──────────────────────────────────────┼─────────────────────────────┼─────────────────┤\n│ dense_4 (\u001b[38;5;33mDense\u001b[0m)                      │ (\u001b[38;5;45mNone\u001b[0m, \u001b[38;5;34m1\u001b[0m)                   │              \u001b[38;5;34m12\u001b[0m │\n└──────────────────────────────────────┴─────────────────────────────┴─────────────────┘\n",
            "text/html": "<pre style=\"white-space:pre;overflow-x:auto;line-height:normal;font-family:Menlo,'DejaVu Sans Mono',consolas,'Courier New',monospace\">┏━━━━━━━━━━━━━━━━━━━━━━━━━━━━━━━━━━━━━━┳━━━━━━━━━━━━━━━━━━━━━━━━━━━━━┳━━━━━━━━━━━━━━━━━┓\n┃<span style=\"font-weight: bold\"> Layer (type)                         </span>┃<span style=\"font-weight: bold\"> Output Shape                </span>┃<span style=\"font-weight: bold\">         Param # </span>┃\n┡━━━━━━━━━━━━━━━━━━━━━━━━━━━━━━━━━━━━━━╇━━━━━━━━━━━━━━━━━━━━━━━━━━━━━╇━━━━━━━━━━━━━━━━━┩\n│ dense_2 (<span style=\"color: #0087ff; text-decoration-color: #0087ff\">Dense</span>)                      │ (<span style=\"color: #00d7ff; text-decoration-color: #00d7ff\">None</span>, <span style=\"color: #00af00; text-decoration-color: #00af00\">11</span>)                  │             <span style=\"color: #00af00; text-decoration-color: #00af00\">132</span> │\n├──────────────────────────────────────┼─────────────────────────────┼─────────────────┤\n│ dense_3 (<span style=\"color: #0087ff; text-decoration-color: #0087ff\">Dense</span>)                      │ (<span style=\"color: #00d7ff; text-decoration-color: #00d7ff\">None</span>, <span style=\"color: #00af00; text-decoration-color: #00af00\">11</span>)                  │             <span style=\"color: #00af00; text-decoration-color: #00af00\">132</span> │\n├──────────────────────────────────────┼─────────────────────────────┼─────────────────┤\n│ dense_4 (<span style=\"color: #0087ff; text-decoration-color: #0087ff\">Dense</span>)                      │ (<span style=\"color: #00d7ff; text-decoration-color: #00d7ff\">None</span>, <span style=\"color: #00af00; text-decoration-color: #00af00\">1</span>)                   │              <span style=\"color: #00af00; text-decoration-color: #00af00\">12</span> │\n└──────────────────────────────────────┴─────────────────────────────┴─────────────────┘\n</pre>\n"
          },
          "metadata": {}
        },
        {
          "output_type": "display_data",
          "data": {
            "text/plain": "\u001b[1m Total params: \u001b[0m\u001b[38;5;34m276\u001b[0m (1.08 KB)\n",
            "text/html": "<pre style=\"white-space:pre;overflow-x:auto;line-height:normal;font-family:Menlo,'DejaVu Sans Mono',consolas,'Courier New',monospace\"><span style=\"font-weight: bold\"> Total params: </span><span style=\"color: #00af00; text-decoration-color: #00af00\">276</span> (1.08 KB)\n</pre>\n"
          },
          "metadata": {}
        },
        {
          "output_type": "display_data",
          "data": {
            "text/plain": "\u001b[1m Trainable params: \u001b[0m\u001b[38;5;34m276\u001b[0m (1.08 KB)\n",
            "text/html": "<pre style=\"white-space:pre;overflow-x:auto;line-height:normal;font-family:Menlo,'DejaVu Sans Mono',consolas,'Courier New',monospace\"><span style=\"font-weight: bold\"> Trainable params: </span><span style=\"color: #00af00; text-decoration-color: #00af00\">276</span> (1.08 KB)\n</pre>\n"
          },
          "metadata": {}
        },
        {
          "output_type": "display_data",
          "data": {
            "text/plain": "\u001b[1m Non-trainable params: \u001b[0m\u001b[38;5;34m0\u001b[0m (0.00 B)\n",
            "text/html": "<pre style=\"white-space:pre;overflow-x:auto;line-height:normal;font-family:Menlo,'DejaVu Sans Mono',consolas,'Courier New',monospace\"><span style=\"font-weight: bold\"> Non-trainable params: </span><span style=\"color: #00af00; text-decoration-color: #00af00\">0</span> (0.00 B)\n</pre>\n"
          },
          "metadata": {}
        }
      ],
      "execution_count": null
    },
    {
      "cell_type": "code",
      "source": [
        "model.compile(loss='binary_crossentropy',optimizer='Adam',metrics=['accuracy'])"
      ],
      "metadata": {
        "trusted": true,
        "execution": {
          "iopub.status.busy": "2025-06-25T11:26:05.118681Z",
          "iopub.execute_input": "2025-06-25T11:26:05.119005Z",
          "iopub.status.idle": "2025-06-25T11:26:05.130194Z",
          "shell.execute_reply.started": "2025-06-25T11:26:05.118981Z",
          "shell.execute_reply": "2025-06-25T11:26:05.129054Z"
        },
        "id": "uq4oRfLp3oUn"
      },
      "outputs": [],
      "execution_count": null
    },
    {
      "cell_type": "code",
      "source": [
        "history=model.fit(x_train_scaled,y_train,epochs=100,validation_split=0.2)"
      ],
      "metadata": {
        "trusted": true,
        "execution": {
          "iopub.status.busy": "2025-06-25T11:29:28.326379Z",
          "iopub.execute_input": "2025-06-25T11:29:28.326766Z",
          "iopub.status.idle": "2025-06-25T11:30:27.411724Z",
          "shell.execute_reply.started": "2025-06-25T11:29:28.326736Z",
          "shell.execute_reply": "2025-06-25T11:30:27.410726Z"
        },
        "id": "Sv5gFNOF3oUn",
        "outputId": "2844cf95-bc7a-4d33-ba20-1f2c8363f49b"
      },
      "outputs": [
        {
          "name": "stdout",
          "text": "Epoch 1/100\n\u001b[1m200/200\u001b[0m \u001b[32m━━━━━━━━━━━━━━━━━━━━\u001b[0m\u001b[37m\u001b[0m \u001b[1m1s\u001b[0m 3ms/step - accuracy: 0.8665 - loss: 0.3273 - val_accuracy: 0.8487 - val_loss: 0.3527\nEpoch 2/100\n\u001b[1m200/200\u001b[0m \u001b[32m━━━━━━━━━━━━━━━━━━━━\u001b[0m\u001b[37m\u001b[0m \u001b[1m1s\u001b[0m 3ms/step - accuracy: 0.8633 - loss: 0.3195 - val_accuracy: 0.8494 - val_loss: 0.3556\nEpoch 3/100\n\u001b[1m200/200\u001b[0m \u001b[32m━━━━━━━━━━━━━━━━━━━━\u001b[0m\u001b[37m\u001b[0m \u001b[1m1s\u001b[0m 3ms/step - accuracy: 0.8700 - loss: 0.3200 - val_accuracy: 0.8512 - val_loss: 0.3509\nEpoch 4/100\n\u001b[1m200/200\u001b[0m \u001b[32m━━━━━━━━━━━━━━━━━━━━\u001b[0m\u001b[37m\u001b[0m \u001b[1m1s\u001b[0m 3ms/step - accuracy: 0.8586 - loss: 0.3289 - val_accuracy: 0.8469 - val_loss: 0.3516\nEpoch 5/100\n\u001b[1m200/200\u001b[0m \u001b[32m━━━━━━━━━━━━━━━━━━━━\u001b[0m\u001b[37m\u001b[0m \u001b[1m1s\u001b[0m 3ms/step - accuracy: 0.8675 - loss: 0.3134 - val_accuracy: 0.8475 - val_loss: 0.3511\nEpoch 6/100\n\u001b[1m200/200\u001b[0m \u001b[32m━━━━━━━━━━━━━━━━━━━━\u001b[0m\u001b[37m\u001b[0m \u001b[1m1s\u001b[0m 3ms/step - accuracy: 0.8631 - loss: 0.3355 - val_accuracy: 0.8506 - val_loss: 0.3505\nEpoch 7/100\n\u001b[1m200/200\u001b[0m \u001b[32m━━━━━━━━━━━━━━━━━━━━\u001b[0m\u001b[37m\u001b[0m \u001b[1m1s\u001b[0m 3ms/step - accuracy: 0.8592 - loss: 0.3327 - val_accuracy: 0.8494 - val_loss: 0.3537\nEpoch 8/100\n\u001b[1m200/200\u001b[0m \u001b[32m━━━━━━━━━━━━━━━━━━━━\u001b[0m\u001b[37m\u001b[0m \u001b[1m1s\u001b[0m 3ms/step - accuracy: 0.8660 - loss: 0.3255 - val_accuracy: 0.8525 - val_loss: 0.3504\nEpoch 9/100\n\u001b[1m200/200\u001b[0m \u001b[32m━━━━━━━━━━━━━━━━━━━━\u001b[0m\u001b[37m\u001b[0m \u001b[1m1s\u001b[0m 3ms/step - accuracy: 0.8601 - loss: 0.3275 - val_accuracy: 0.8487 - val_loss: 0.3507\nEpoch 10/100\n\u001b[1m200/200\u001b[0m \u001b[32m━━━━━━━━━━━━━━━━━━━━\u001b[0m\u001b[37m\u001b[0m \u001b[1m1s\u001b[0m 3ms/step - accuracy: 0.8721 - loss: 0.3156 - val_accuracy: 0.8500 - val_loss: 0.3519\nEpoch 11/100\n\u001b[1m200/200\u001b[0m \u001b[32m━━━━━━━━━━━━━━━━━━━━\u001b[0m\u001b[37m\u001b[0m \u001b[1m1s\u001b[0m 3ms/step - accuracy: 0.8732 - loss: 0.3191 - val_accuracy: 0.8462 - val_loss: 0.3512\nEpoch 12/100\n\u001b[1m200/200\u001b[0m \u001b[32m━━━━━━━━━━━━━━━━━━━━\u001b[0m\u001b[37m\u001b[0m \u001b[1m1s\u001b[0m 3ms/step - accuracy: 0.8667 - loss: 0.3233 - val_accuracy: 0.8494 - val_loss: 0.3523\nEpoch 13/100\n\u001b[1m200/200\u001b[0m \u001b[32m━━━━━━━━━━━━━━━━━━━━\u001b[0m\u001b[37m\u001b[0m \u001b[1m1s\u001b[0m 3ms/step - accuracy: 0.8699 - loss: 0.3206 - val_accuracy: 0.8475 - val_loss: 0.3511\nEpoch 14/100\n\u001b[1m200/200\u001b[0m \u001b[32m━━━━━━━━━━━━━━━━━━━━\u001b[0m\u001b[37m\u001b[0m \u001b[1m1s\u001b[0m 3ms/step - accuracy: 0.8692 - loss: 0.3153 - val_accuracy: 0.8475 - val_loss: 0.3533\nEpoch 15/100\n\u001b[1m200/200\u001b[0m \u001b[32m━━━━━━━━━━━━━━━━━━━━\u001b[0m\u001b[37m\u001b[0m \u001b[1m1s\u001b[0m 3ms/step - accuracy: 0.8626 - loss: 0.3187 - val_accuracy: 0.8475 - val_loss: 0.3526\nEpoch 16/100\n\u001b[1m200/200\u001b[0m \u001b[32m━━━━━━━━━━━━━━━━━━━━\u001b[0m\u001b[37m\u001b[0m \u001b[1m1s\u001b[0m 3ms/step - accuracy: 0.8602 - loss: 0.3343 - val_accuracy: 0.8469 - val_loss: 0.3537\nEpoch 17/100\n\u001b[1m200/200\u001b[0m \u001b[32m━━━━━━━━━━━━━━━━━━━━\u001b[0m\u001b[37m\u001b[0m \u001b[1m1s\u001b[0m 3ms/step - accuracy: 0.8699 - loss: 0.3252 - val_accuracy: 0.8487 - val_loss: 0.3535\nEpoch 18/100\n\u001b[1m200/200\u001b[0m \u001b[32m━━━━━━━━━━━━━━━━━━━━\u001b[0m\u001b[37m\u001b[0m \u001b[1m1s\u001b[0m 3ms/step - accuracy: 0.8729 - loss: 0.3091 - val_accuracy: 0.8519 - val_loss: 0.3530\nEpoch 19/100\n\u001b[1m200/200\u001b[0m \u001b[32m━━━━━━━━━━━━━━━━━━━━\u001b[0m\u001b[37m\u001b[0m \u001b[1m1s\u001b[0m 3ms/step - accuracy: 0.8686 - loss: 0.3177 - val_accuracy: 0.8494 - val_loss: 0.3531\nEpoch 20/100\n\u001b[1m200/200\u001b[0m \u001b[32m━━━━━━━━━━━━━━━━━━━━\u001b[0m\u001b[37m\u001b[0m \u001b[1m1s\u001b[0m 3ms/step - accuracy: 0.8660 - loss: 0.3241 - val_accuracy: 0.8475 - val_loss: 0.3510\nEpoch 21/100\n\u001b[1m200/200\u001b[0m \u001b[32m━━━━━━━━━━━━━━━━━━━━\u001b[0m\u001b[37m\u001b[0m \u001b[1m1s\u001b[0m 2ms/step - accuracy: 0.8657 - loss: 0.3342 - val_accuracy: 0.8487 - val_loss: 0.3532\nEpoch 22/100\n\u001b[1m200/200\u001b[0m \u001b[32m━━━━━━━━━━━━━━━━━━━━\u001b[0m\u001b[37m\u001b[0m \u001b[1m1s\u001b[0m 3ms/step - accuracy: 0.8722 - loss: 0.3219 - val_accuracy: 0.8494 - val_loss: 0.3536\nEpoch 23/100\n\u001b[1m200/200\u001b[0m \u001b[32m━━━━━━━━━━━━━━━━━━━━\u001b[0m\u001b[37m\u001b[0m \u001b[1m1s\u001b[0m 3ms/step - accuracy: 0.8716 - loss: 0.3171 - val_accuracy: 0.8475 - val_loss: 0.3520\nEpoch 24/100\n\u001b[1m200/200\u001b[0m \u001b[32m━━━━━━━━━━━━━━━━━━━━\u001b[0m\u001b[37m\u001b[0m \u001b[1m1s\u001b[0m 3ms/step - accuracy: 0.8663 - loss: 0.3233 - val_accuracy: 0.8487 - val_loss: 0.3564\nEpoch 25/100\n\u001b[1m200/200\u001b[0m \u001b[32m━━━━━━━━━━━━━━━━━━━━\u001b[0m\u001b[37m\u001b[0m \u001b[1m1s\u001b[0m 3ms/step - accuracy: 0.8677 - loss: 0.3187 - val_accuracy: 0.8506 - val_loss: 0.3511\nEpoch 26/100\n\u001b[1m200/200\u001b[0m \u001b[32m━━━━━━━━━━━━━━━━━━━━\u001b[0m\u001b[37m\u001b[0m \u001b[1m1s\u001b[0m 2ms/step - accuracy: 0.8670 - loss: 0.3268 - val_accuracy: 0.8525 - val_loss: 0.3514\nEpoch 27/100\n\u001b[1m200/200\u001b[0m \u001b[32m━━━━━━━━━━━━━━━━━━━━\u001b[0m\u001b[37m\u001b[0m \u001b[1m1s\u001b[0m 3ms/step - accuracy: 0.8740 - loss: 0.3165 - val_accuracy: 0.8494 - val_loss: 0.3531\nEpoch 28/100\n\u001b[1m200/200\u001b[0m \u001b[32m━━━━━━━━━━━━━━━━━━━━\u001b[0m\u001b[37m\u001b[0m \u001b[1m1s\u001b[0m 3ms/step - accuracy: 0.8673 - loss: 0.3217 - val_accuracy: 0.8506 - val_loss: 0.3518\nEpoch 29/100\n\u001b[1m200/200\u001b[0m \u001b[32m━━━━━━━━━━━━━━━━━━━━\u001b[0m\u001b[37m\u001b[0m \u001b[1m1s\u001b[0m 3ms/step - accuracy: 0.8749 - loss: 0.3069 - val_accuracy: 0.8512 - val_loss: 0.3527\nEpoch 30/100\n\u001b[1m200/200\u001b[0m \u001b[32m━━━━━━━━━━━━━━━━━━━━\u001b[0m\u001b[37m\u001b[0m \u001b[1m1s\u001b[0m 3ms/step - accuracy: 0.8732 - loss: 0.3147 - val_accuracy: 0.8469 - val_loss: 0.3526\nEpoch 31/100\n\u001b[1m200/200\u001b[0m \u001b[32m━━━━━━━━━━━━━━━━━━━━\u001b[0m\u001b[37m\u001b[0m \u001b[1m1s\u001b[0m 3ms/step - accuracy: 0.8655 - loss: 0.3195 - val_accuracy: 0.8512 - val_loss: 0.3556\nEpoch 32/100\n\u001b[1m200/200\u001b[0m \u001b[32m━━━━━━━━━━━━━━━━━━━━\u001b[0m\u001b[37m\u001b[0m \u001b[1m1s\u001b[0m 3ms/step - accuracy: 0.8690 - loss: 0.3216 - val_accuracy: 0.8512 - val_loss: 0.3536\nEpoch 33/100\n\u001b[1m200/200\u001b[0m \u001b[32m━━━━━━━━━━━━━━━━━━━━\u001b[0m\u001b[37m\u001b[0m \u001b[1m1s\u001b[0m 3ms/step - accuracy: 0.8690 - loss: 0.3182 - val_accuracy: 0.8525 - val_loss: 0.3531\nEpoch 34/100\n\u001b[1m200/200\u001b[0m \u001b[32m━━━━━━━━━━━━━━━━━━━━\u001b[0m\u001b[37m\u001b[0m \u001b[1m1s\u001b[0m 3ms/step - accuracy: 0.8745 - loss: 0.3186 - val_accuracy: 0.8481 - val_loss: 0.3553\nEpoch 35/100\n\u001b[1m200/200\u001b[0m \u001b[32m━━━━━━━━━━━━━━━━━━━━\u001b[0m\u001b[37m\u001b[0m \u001b[1m1s\u001b[0m 3ms/step - accuracy: 0.8682 - loss: 0.3194 - val_accuracy: 0.8481 - val_loss: 0.3522\nEpoch 36/100\n\u001b[1m200/200\u001b[0m \u001b[32m━━━━━━━━━━━━━━━━━━━━\u001b[0m\u001b[37m\u001b[0m \u001b[1m1s\u001b[0m 3ms/step - accuracy: 0.8684 - loss: 0.3171 - val_accuracy: 0.8494 - val_loss: 0.3514\nEpoch 37/100\n\u001b[1m200/200\u001b[0m \u001b[32m━━━━━━━━━━━━━━━━━━━━\u001b[0m\u001b[37m\u001b[0m \u001b[1m1s\u001b[0m 3ms/step - accuracy: 0.8706 - loss: 0.3161 - val_accuracy: 0.8512 - val_loss: 0.3533\nEpoch 38/100\n\u001b[1m200/200\u001b[0m \u001b[32m━━━━━━━━━━━━━━━━━━━━\u001b[0m\u001b[37m\u001b[0m \u001b[1m1s\u001b[0m 3ms/step - accuracy: 0.8679 - loss: 0.3160 - val_accuracy: 0.8469 - val_loss: 0.3517\nEpoch 39/100\n\u001b[1m200/200\u001b[0m \u001b[32m━━━━━━━━━━━━━━━━━━━━\u001b[0m\u001b[37m\u001b[0m \u001b[1m1s\u001b[0m 3ms/step - accuracy: 0.8644 - loss: 0.3244 - val_accuracy: 0.8494 - val_loss: 0.3543\nEpoch 40/100\n\u001b[1m200/200\u001b[0m \u001b[32m━━━━━━━━━━━━━━━━━━━━\u001b[0m\u001b[37m\u001b[0m \u001b[1m1s\u001b[0m 3ms/step - accuracy: 0.8713 - loss: 0.3099 - val_accuracy: 0.8512 - val_loss: 0.3541\nEpoch 41/100\n\u001b[1m200/200\u001b[0m \u001b[32m━━━━━━━━━━━━━━━━━━━━\u001b[0m\u001b[37m\u001b[0m \u001b[1m1s\u001b[0m 3ms/step - accuracy: 0.8694 - loss: 0.3218 - val_accuracy: 0.8525 - val_loss: 0.3507\nEpoch 42/100\n\u001b[1m200/200\u001b[0m \u001b[32m━━━━━━━━━━━━━━━━━━━━\u001b[0m\u001b[37m\u001b[0m \u001b[1m1s\u001b[0m 3ms/step - accuracy: 0.8686 - loss: 0.3196 - val_accuracy: 0.8506 - val_loss: 0.3541\nEpoch 43/100\n\u001b[1m200/200\u001b[0m \u001b[32m━━━━━━━━━━━━━━━━━━━━\u001b[0m\u001b[37m\u001b[0m \u001b[1m1s\u001b[0m 3ms/step - accuracy: 0.8654 - loss: 0.3188 - val_accuracy: 0.8500 - val_loss: 0.3530\nEpoch 44/100\n\u001b[1m200/200\u001b[0m \u001b[32m━━━━━━━━━━━━━━━━━━━━\u001b[0m\u001b[37m\u001b[0m \u001b[1m1s\u001b[0m 3ms/step - accuracy: 0.8690 - loss: 0.3158 - val_accuracy: 0.8519 - val_loss: 0.3516\nEpoch 45/100\n\u001b[1m200/200\u001b[0m \u001b[32m━━━━━━━━━━━━━━━━━━━━\u001b[0m\u001b[37m\u001b[0m \u001b[1m1s\u001b[0m 3ms/step - accuracy: 0.8701 - loss: 0.3127 - val_accuracy: 0.8494 - val_loss: 0.3523\nEpoch 46/100\n\u001b[1m200/200\u001b[0m \u001b[32m━━━━━━━━━━━━━━━━━━━━\u001b[0m\u001b[37m\u001b[0m \u001b[1m1s\u001b[0m 3ms/step - accuracy: 0.8666 - loss: 0.3231 - val_accuracy: 0.8494 - val_loss: 0.3527\nEpoch 47/100\n\u001b[1m200/200\u001b[0m \u001b[32m━━━━━━━━━━━━━━━━━━━━\u001b[0m\u001b[37m\u001b[0m \u001b[1m1s\u001b[0m 3ms/step - accuracy: 0.8703 - loss: 0.3120 - val_accuracy: 0.8494 - val_loss: 0.3512\nEpoch 48/100\n\u001b[1m200/200\u001b[0m \u001b[32m━━━━━━━━━━━━━━━━━━━━\u001b[0m\u001b[37m\u001b[0m \u001b[1m1s\u001b[0m 2ms/step - accuracy: 0.8657 - loss: 0.3233 - val_accuracy: 0.8487 - val_loss: 0.3530\nEpoch 49/100\n\u001b[1m200/200\u001b[0m \u001b[32m━━━━━━━━━━━━━━━━━━━━\u001b[0m\u001b[37m\u001b[0m \u001b[1m1s\u001b[0m 3ms/step - accuracy: 0.8700 - loss: 0.3141 - val_accuracy: 0.8525 - val_loss: 0.3527\nEpoch 50/100\n\u001b[1m200/200\u001b[0m \u001b[32m━━━━━━━━━━━━━━━━━━━━\u001b[0m\u001b[37m\u001b[0m \u001b[1m1s\u001b[0m 2ms/step - accuracy: 0.8691 - loss: 0.3261 - val_accuracy: 0.8519 - val_loss: 0.3522\nEpoch 51/100\n\u001b[1m200/200\u001b[0m \u001b[32m━━━━━━━━━━━━━━━━━━━━\u001b[0m\u001b[37m\u001b[0m \u001b[1m1s\u001b[0m 3ms/step - accuracy: 0.8591 - loss: 0.3362 - val_accuracy: 0.8481 - val_loss: 0.3529\nEpoch 52/100\n\u001b[1m200/200\u001b[0m \u001b[32m━━━━━━━━━━━━━━━━━━━━\u001b[0m\u001b[37m\u001b[0m \u001b[1m1s\u001b[0m 2ms/step - accuracy: 0.8706 - loss: 0.3165 - val_accuracy: 0.8512 - val_loss: 0.3529\nEpoch 53/100\n\u001b[1m200/200\u001b[0m \u001b[32m━━━━━━━━━━━━━━━━━━━━\u001b[0m\u001b[37m\u001b[0m \u001b[1m1s\u001b[0m 2ms/step - accuracy: 0.8697 - loss: 0.3203 - val_accuracy: 0.8512 - val_loss: 0.3536\nEpoch 54/100\n\u001b[1m200/200\u001b[0m \u001b[32m━━━━━━━━━━━━━━━━━━━━\u001b[0m\u001b[37m\u001b[0m \u001b[1m1s\u001b[0m 2ms/step - accuracy: 0.8678 - loss: 0.3148 - val_accuracy: 0.8487 - val_loss: 0.3563\nEpoch 55/100\n\u001b[1m200/200\u001b[0m \u001b[32m━━━━━━━━━━━━━━━━━━━━\u001b[0m\u001b[37m\u001b[0m \u001b[1m1s\u001b[0m 3ms/step - accuracy: 0.8735 - loss: 0.3074 - val_accuracy: 0.8487 - val_loss: 0.3531\nEpoch 56/100\n\u001b[1m200/200\u001b[0m \u001b[32m━━━━━━━━━━━━━━━━━━━━\u001b[0m\u001b[37m\u001b[0m \u001b[1m1s\u001b[0m 3ms/step - accuracy: 0.8684 - loss: 0.3199 - val_accuracy: 0.8456 - val_loss: 0.3526\nEpoch 57/100\n\u001b[1m200/200\u001b[0m \u001b[32m━━━━━━━━━━━━━━━━━━━━\u001b[0m\u001b[37m\u001b[0m \u001b[1m1s\u001b[0m 3ms/step - accuracy: 0.8689 - loss: 0.3121 - val_accuracy: 0.8481 - val_loss: 0.3541\nEpoch 58/100\n\u001b[1m200/200\u001b[0m \u001b[32m━━━━━━━━━━━━━━━━━━━━\u001b[0m\u001b[37m\u001b[0m \u001b[1m1s\u001b[0m 3ms/step - accuracy: 0.8671 - loss: 0.3200 - val_accuracy: 0.8500 - val_loss: 0.3523\nEpoch 59/100\n\u001b[1m200/200\u001b[0m \u001b[32m━━━━━━━━━━━━━━━━━━━━\u001b[0m\u001b[37m\u001b[0m \u001b[1m1s\u001b[0m 3ms/step - accuracy: 0.8678 - loss: 0.3250 - val_accuracy: 0.8462 - val_loss: 0.3529\nEpoch 60/100\n\u001b[1m200/200\u001b[0m \u001b[32m━━━━━━━━━━━━━━━━━━━━\u001b[0m\u001b[37m\u001b[0m \u001b[1m1s\u001b[0m 4ms/step - accuracy: 0.8644 - loss: 0.3164 - val_accuracy: 0.8512 - val_loss: 0.3520\nEpoch 61/100\n\u001b[1m200/200\u001b[0m \u001b[32m━━━━━━━━━━━━━━━━━━━━\u001b[0m\u001b[37m\u001b[0m \u001b[1m1s\u001b[0m 4ms/step - accuracy: 0.8678 - loss: 0.3172 - val_accuracy: 0.8525 - val_loss: 0.3522\nEpoch 62/100\n\u001b[1m200/200\u001b[0m \u001b[32m━━━━━━━━━━━━━━━━━━━━\u001b[0m\u001b[37m\u001b[0m \u001b[1m1s\u001b[0m 3ms/step - accuracy: 0.8806 - loss: 0.3027 - val_accuracy: 0.8487 - val_loss: 0.3525\nEpoch 63/100\n\u001b[1m200/200\u001b[0m \u001b[32m━━━━━━━━━━━━━━━━━━━━\u001b[0m\u001b[37m\u001b[0m \u001b[1m1s\u001b[0m 4ms/step - accuracy: 0.8682 - loss: 0.3178 - val_accuracy: 0.8475 - val_loss: 0.3510\nEpoch 64/100\n\u001b[1m200/200\u001b[0m \u001b[32m━━━━━━━━━━━━━━━━━━━━\u001b[0m\u001b[37m\u001b[0m \u001b[1m1s\u001b[0m 4ms/step - accuracy: 0.8688 - loss: 0.3163 - val_accuracy: 0.8512 - val_loss: 0.3565\nEpoch 65/100\n\u001b[1m200/200\u001b[0m \u001b[32m━━━━━━━━━━━━━━━━━━━━\u001b[0m\u001b[37m\u001b[0m \u001b[1m1s\u001b[0m 4ms/step - accuracy: 0.8755 - loss: 0.3066 - val_accuracy: 0.8481 - val_loss: 0.3540\nEpoch 66/100\n\u001b[1m200/200\u001b[0m \u001b[32m━━━━━━━━━━━━━━━━━━━━\u001b[0m\u001b[37m\u001b[0m \u001b[1m1s\u001b[0m 3ms/step - accuracy: 0.8719 - loss: 0.3126 - val_accuracy: 0.8481 - val_loss: 0.3554\nEpoch 67/100\n\u001b[1m200/200\u001b[0m \u001b[32m━━━━━━━━━━━━━━━━━━━━\u001b[0m\u001b[37m\u001b[0m \u001b[1m1s\u001b[0m 3ms/step - accuracy: 0.8704 - loss: 0.3081 - val_accuracy: 0.8494 - val_loss: 0.3560\nEpoch 68/100\n\u001b[1m200/200\u001b[0m \u001b[32m━━━━━━━━━━━━━━━━━━━━\u001b[0m\u001b[37m\u001b[0m \u001b[1m1s\u001b[0m 3ms/step - accuracy: 0.8694 - loss: 0.3159 - val_accuracy: 0.8512 - val_loss: 0.3519\nEpoch 69/100\n\u001b[1m200/200\u001b[0m \u001b[32m━━━━━━━━━━━━━━━━━━━━\u001b[0m\u001b[37m\u001b[0m \u001b[1m1s\u001b[0m 3ms/step - accuracy: 0.8801 - loss: 0.2999 - val_accuracy: 0.8506 - val_loss: 0.3535\nEpoch 70/100\n\u001b[1m200/200\u001b[0m \u001b[32m━━━━━━━━━━━━━━━━━━━━\u001b[0m\u001b[37m\u001b[0m \u001b[1m1s\u001b[0m 3ms/step - accuracy: 0.8716 - loss: 0.3125 - val_accuracy: 0.8506 - val_loss: 0.3528\nEpoch 71/100\n\u001b[1m200/200\u001b[0m \u001b[32m━━━━━━━━━━━━━━━━━━━━\u001b[0m\u001b[37m\u001b[0m \u001b[1m1s\u001b[0m 3ms/step - accuracy: 0.8660 - loss: 0.3224 - val_accuracy: 0.8506 - val_loss: 0.3528\nEpoch 72/100\n\u001b[1m200/200\u001b[0m \u001b[32m━━━━━━━━━━━━━━━━━━━━\u001b[0m\u001b[37m\u001b[0m \u001b[1m1s\u001b[0m 3ms/step - accuracy: 0.8653 - loss: 0.3256 - val_accuracy: 0.8487 - val_loss: 0.3543\nEpoch 73/100\n\u001b[1m200/200\u001b[0m \u001b[32m━━━━━━━━━━━━━━━━━━━━\u001b[0m\u001b[37m\u001b[0m \u001b[1m1s\u001b[0m 3ms/step - accuracy: 0.8572 - loss: 0.3208 - val_accuracy: 0.8469 - val_loss: 0.3573\nEpoch 74/100\n\u001b[1m200/200\u001b[0m \u001b[32m━━━━━━━━━━━━━━━━━━━━\u001b[0m\u001b[37m\u001b[0m \u001b[1m1s\u001b[0m 3ms/step - accuracy: 0.8755 - loss: 0.3106 - val_accuracy: 0.8500 - val_loss: 0.3573\nEpoch 75/100\n\u001b[1m200/200\u001b[0m \u001b[32m━━━━━━━━━━━━━━━━━━━━\u001b[0m\u001b[37m\u001b[0m \u001b[1m1s\u001b[0m 3ms/step - accuracy: 0.8680 - loss: 0.3134 - val_accuracy: 0.8500 - val_loss: 0.3546\nEpoch 76/100\n\u001b[1m200/200\u001b[0m \u001b[32m━━━━━━━━━━━━━━━━━━━━\u001b[0m\u001b[37m\u001b[0m \u001b[1m1s\u001b[0m 3ms/step - accuracy: 0.8676 - loss: 0.3242 - val_accuracy: 0.8487 - val_loss: 0.3555\nEpoch 77/100\n\u001b[1m200/200\u001b[0m \u001b[32m━━━━━━━━━━━━━━━━━━━━\u001b[0m\u001b[37m\u001b[0m \u001b[1m1s\u001b[0m 3ms/step - accuracy: 0.8703 - loss: 0.3101 - val_accuracy: 0.8519 - val_loss: 0.3542\nEpoch 78/100\n\u001b[1m200/200\u001b[0m \u001b[32m━━━━━━━━━━━━━━━━━━━━\u001b[0m\u001b[37m\u001b[0m \u001b[1m1s\u001b[0m 3ms/step - accuracy: 0.8631 - loss: 0.3197 - val_accuracy: 0.8506 - val_loss: 0.3537\nEpoch 79/100\n\u001b[1m200/200\u001b[0m \u001b[32m━━━━━━━━━━━━━━━━━━━━\u001b[0m\u001b[37m\u001b[0m \u001b[1m1s\u001b[0m 3ms/step - accuracy: 0.8741 - loss: 0.3115 - val_accuracy: 0.8525 - val_loss: 0.3567\nEpoch 80/100\n\u001b[1m200/200\u001b[0m \u001b[32m━━━━━━━━━━━━━━━━━━━━\u001b[0m\u001b[37m\u001b[0m \u001b[1m1s\u001b[0m 3ms/step - accuracy: 0.8610 - loss: 0.3262 - val_accuracy: 0.8519 - val_loss: 0.3538\nEpoch 81/100\n\u001b[1m200/200\u001b[0m \u001b[32m━━━━━━━━━━━━━━━━━━━━\u001b[0m\u001b[37m\u001b[0m \u001b[1m1s\u001b[0m 3ms/step - accuracy: 0.8685 - loss: 0.3121 - val_accuracy: 0.8500 - val_loss: 0.3527\nEpoch 82/100\n\u001b[1m200/200\u001b[0m \u001b[32m━━━━━━━━━━━━━━━━━━━━\u001b[0m\u001b[37m\u001b[0m \u001b[1m1s\u001b[0m 3ms/step - accuracy: 0.8781 - loss: 0.3027 - val_accuracy: 0.8519 - val_loss: 0.3539\nEpoch 83/100\n\u001b[1m200/200\u001b[0m \u001b[32m━━━━━━━━━━━━━━━━━━━━\u001b[0m\u001b[37m\u001b[0m \u001b[1m1s\u001b[0m 3ms/step - accuracy: 0.8693 - loss: 0.3106 - val_accuracy: 0.8494 - val_loss: 0.3530\nEpoch 84/100\n\u001b[1m200/200\u001b[0m \u001b[32m━━━━━━━━━━━━━━━━━━━━\u001b[0m\u001b[37m\u001b[0m \u001b[1m1s\u001b[0m 3ms/step - accuracy: 0.8679 - loss: 0.3172 - val_accuracy: 0.8531 - val_loss: 0.3539\nEpoch 85/100\n\u001b[1m200/200\u001b[0m \u001b[32m━━━━━━━━━━━━━━━━━━━━\u001b[0m\u001b[37m\u001b[0m \u001b[1m1s\u001b[0m 3ms/step - accuracy: 0.8750 - loss: 0.3118 - val_accuracy: 0.8487 - val_loss: 0.3555\nEpoch 86/100\n\u001b[1m200/200\u001b[0m \u001b[32m━━━━━━━━━━━━━━━━━━━━\u001b[0m\u001b[37m\u001b[0m \u001b[1m1s\u001b[0m 3ms/step - accuracy: 0.8773 - loss: 0.3068 - val_accuracy: 0.8519 - val_loss: 0.3567\nEpoch 87/100\n\u001b[1m200/200\u001b[0m \u001b[32m━━━━━━━━━━━━━━━━━━━━\u001b[0m\u001b[37m\u001b[0m \u001b[1m1s\u001b[0m 3ms/step - accuracy: 0.8721 - loss: 0.3120 - val_accuracy: 0.8519 - val_loss: 0.3548\nEpoch 88/100\n\u001b[1m200/200\u001b[0m \u001b[32m━━━━━━━━━━━━━━━━━━━━\u001b[0m\u001b[37m\u001b[0m \u001b[1m1s\u001b[0m 3ms/step - accuracy: 0.8696 - loss: 0.3196 - val_accuracy: 0.8519 - val_loss: 0.3546\nEpoch 89/100\n\u001b[1m200/200\u001b[0m \u001b[32m━━━━━━━━━━━━━━━━━━━━\u001b[0m\u001b[37m\u001b[0m \u001b[1m1s\u001b[0m 3ms/step - accuracy: 0.8704 - loss: 0.3113 - val_accuracy: 0.8512 - val_loss: 0.3542\nEpoch 90/100\n\u001b[1m200/200\u001b[0m \u001b[32m━━━━━━━━━━━━━━━━━━━━\u001b[0m\u001b[37m\u001b[0m \u001b[1m1s\u001b[0m 3ms/step - accuracy: 0.8665 - loss: 0.3184 - val_accuracy: 0.8512 - val_loss: 0.3568\nEpoch 91/100\n\u001b[1m200/200\u001b[0m \u001b[32m━━━━━━━━━━━━━━━━━━━━\u001b[0m\u001b[37m\u001b[0m \u001b[1m1s\u001b[0m 3ms/step - accuracy: 0.8727 - loss: 0.3215 - val_accuracy: 0.8519 - val_loss: 0.3541\nEpoch 92/100\n\u001b[1m200/200\u001b[0m \u001b[32m━━━━━━━━━━━━━━━━━━━━\u001b[0m\u001b[37m\u001b[0m \u001b[1m1s\u001b[0m 3ms/step - accuracy: 0.8636 - loss: 0.3208 - val_accuracy: 0.8512 - val_loss: 0.3534\nEpoch 93/100\n\u001b[1m200/200\u001b[0m \u001b[32m━━━━━━━━━━━━━━━━━━━━\u001b[0m\u001b[37m\u001b[0m \u001b[1m1s\u001b[0m 3ms/step - accuracy: 0.8727 - loss: 0.3107 - val_accuracy: 0.8531 - val_loss: 0.3546\nEpoch 94/100\n\u001b[1m200/200\u001b[0m \u001b[32m━━━━━━━━━━━━━━━━━━━━\u001b[0m\u001b[37m\u001b[0m \u001b[1m1s\u001b[0m 3ms/step - accuracy: 0.8740 - loss: 0.3091 - val_accuracy: 0.8475 - val_loss: 0.3567\nEpoch 95/100\n\u001b[1m200/200\u001b[0m \u001b[32m━━━━━━━━━━━━━━━━━━━━\u001b[0m\u001b[37m\u001b[0m \u001b[1m1s\u001b[0m 3ms/step - accuracy: 0.8608 - loss: 0.3276 - val_accuracy: 0.8525 - val_loss: 0.3553\nEpoch 96/100\n\u001b[1m200/200\u001b[0m \u001b[32m━━━━━━━━━━━━━━━━━━━━\u001b[0m\u001b[37m\u001b[0m \u001b[1m1s\u001b[0m 3ms/step - accuracy: 0.8755 - loss: 0.3122 - val_accuracy: 0.8494 - val_loss: 0.3536\nEpoch 97/100\n\u001b[1m200/200\u001b[0m \u001b[32m━━━━━━━━━━━━━━━━━━━━\u001b[0m\u001b[37m\u001b[0m \u001b[1m1s\u001b[0m 3ms/step - accuracy: 0.8656 - loss: 0.3206 - val_accuracy: 0.8519 - val_loss: 0.3549\nEpoch 98/100\n\u001b[1m200/200\u001b[0m \u001b[32m━━━━━━━━━━━━━━━━━━━━\u001b[0m\u001b[37m\u001b[0m \u001b[1m1s\u001b[0m 3ms/step - accuracy: 0.8752 - loss: 0.3087 - val_accuracy: 0.8519 - val_loss: 0.3539\nEpoch 99/100\n\u001b[1m200/200\u001b[0m \u001b[32m━━━━━━━━━━━━━━━━━━━━\u001b[0m\u001b[37m\u001b[0m \u001b[1m1s\u001b[0m 3ms/step - accuracy: 0.8694 - loss: 0.3256 - val_accuracy: 0.8506 - val_loss: 0.3560\nEpoch 100/100\n\u001b[1m200/200\u001b[0m \u001b[32m━━━━━━━━━━━━━━━━━━━━\u001b[0m\u001b[37m\u001b[0m \u001b[1m1s\u001b[0m 3ms/step - accuracy: 0.8708 - loss: 0.3154 - val_accuracy: 0.8531 - val_loss: 0.3549\n",
          "output_type": "stream"
        }
      ],
      "execution_count": null
    },
    {
      "cell_type": "code",
      "source": [
        "model.layers[0].get_weights()"
      ],
      "metadata": {
        "trusted": true,
        "execution": {
          "iopub.status.busy": "2025-06-25T11:30:36.727507Z",
          "iopub.execute_input": "2025-06-25T11:30:36.728295Z",
          "iopub.status.idle": "2025-06-25T11:30:36.737044Z",
          "shell.execute_reply.started": "2025-06-25T11:30:36.728261Z",
          "shell.execute_reply": "2025-06-25T11:30:36.736124Z"
        },
        "id": "CK5XJRBm3oUn",
        "outputId": "a40ade36-a4b3-4afc-d095-b8b417aabf75"
      },
      "outputs": [
        {
          "execution_count": 57,
          "output_type": "execute_result",
          "data": {
            "text/plain": "[array([[-0.42084107,  0.00132665, -0.3041111 , -0.01660636, -0.4797369 ,\n          0.09314981, -0.07219518,  0.0913953 ,  0.8906173 ,  0.12227698,\n         -0.19052014],\n        [ 0.2341709 ,  0.5151895 ,  0.19396366,  0.35966697, -0.9407365 ,\n         -1.1942414 , -0.18047436, -0.15943259, -0.79532367, -0.6596028 ,\n          1.0972904 ],\n        [ 0.7958073 ,  0.05938367,  0.11615931,  0.03292874,  0.3584886 ,\n         -0.11349349,  0.2763125 , -0.31361264, -0.22005099, -0.07510611,\n          0.25921714],\n        [-0.16043112,  0.27741665,  0.47546867, -0.41746548, -0.4063319 ,\n          0.37806457, -0.52840865, -0.6739074 ,  0.04318858, -0.3581863 ,\n         -0.33873722],\n        [ 0.58958304,  1.2800242 , -0.59855324, -1.2709891 ,  0.75035733,\n         -0.75174654, -0.2968521 ,  0.1507098 ,  0.24314019,  0.39316505,\n         -0.706507  ],\n        [ 0.88021636, -0.16849314,  0.38513213, -0.22157823, -0.09240314,\n          0.57196826, -0.45012826,  0.96290964, -0.77287173, -0.42795238,\n          0.01910854],\n        [ 0.19607186, -0.34399974,  0.03516758, -0.31969547,  0.10612465,\n         -0.06163129,  0.12325909,  0.19012113,  0.38735035, -0.21920536,\n          0.9077881 ],\n        [-0.03674453,  0.06061802, -0.1817283 , -0.0086908 , -0.3481685 ,\n          0.20194   , -0.21075621,  0.01561512,  0.2659602 ,  0.04004804,\n         -0.05286206],\n        [-0.5942172 , -0.36071125,  0.22535783,  0.1562202 , -0.21524626,\n          0.16032279, -0.5602656 , -0.49603164,  0.49364692, -0.13516581,\n         -0.02323473],\n        [ 0.20442687,  0.22126773, -0.51841104,  0.00680547, -0.02137491,\n          0.03793158,  0.61615187, -0.08936801,  0.5572413 , -0.19663809,\n          0.29653093],\n        [ 0.7415476 ,  0.10039257,  0.03896129, -0.01585037, -0.24856159,\n         -0.08133452,  0.03327875,  0.03089342,  0.36615396,  0.12304306,\n          0.12082139]], dtype=float32),\n array([ 0.10059438, -0.26504496,  0.31247598,  0.32148638,  0.61697173,\n         0.5469911 ,  0.88948596,  0.4505028 , -0.20978278,  1.1371856 ,\n        -0.4663698 ], dtype=float32)]"
          },
          "metadata": {}
        }
      ],
      "execution_count": null
    },
    {
      "cell_type": "code",
      "source": [
        "model.layers[1].get_weights()"
      ],
      "metadata": {
        "trusted": true,
        "execution": {
          "iopub.status.busy": "2025-06-25T11:30:37.92768Z",
          "iopub.execute_input": "2025-06-25T11:30:37.928268Z",
          "iopub.status.idle": "2025-06-25T11:30:37.936269Z",
          "shell.execute_reply.started": "2025-06-25T11:30:37.928238Z",
          "shell.execute_reply": "2025-06-25T11:30:37.935416Z"
        },
        "id": "hbXB9qvE3oUn",
        "outputId": "b7c3c005-e351-4fb2-8a2c-9d761f9605c7"
      },
      "outputs": [
        {
          "execution_count": 58,
          "output_type": "execute_result",
          "data": {
            "text/plain": "[array([[ 0.16265672, -0.22221117,  0.33917895,  0.20843278,  0.28979206,\n          0.09596244,  0.5232905 ,  0.9391831 ,  0.37417355, -0.8371066 ,\n          0.1584322 ],\n        [ 0.8398016 ,  0.5256613 ,  0.06056748, -0.06714498,  0.8930177 ,\n         -0.5692258 ,  0.42572942,  0.54567236, -0.82108206,  0.86160976,\n         -0.05410841],\n        [ 0.39244595, -0.10616935,  0.06426784,  0.23729537,  0.18895178,\n          0.40100768, -1.0176733 , -0.21406674,  0.13627362, -0.26659608,\n          0.24308343],\n        [ 0.59300554, -0.29991227, -0.36025524, -0.02972866, -0.22799754,\n         -0.3602889 ,  0.7767459 , -0.36955842, -0.02426049, -0.790654  ,\n          0.04125587],\n        [ 0.01584289, -0.21413691, -0.00624644, -0.49084327, -0.01589786,\n          0.5908167 ,  0.61255187, -0.81841105, -0.21670482,  0.11707781,\n          0.2743842 ],\n        [-0.8632301 ,  0.4660375 , -0.15759523,  0.4841409 ,  0.27559593,\n         -0.18708797, -0.13818805,  0.02400576,  0.592456  ,  0.2191795 ,\n         -0.18609565],\n        [-0.48377812,  0.12685177, -0.0082481 , -0.05758249, -0.18963547,\n          0.75636774, -0.17224948, -0.21844439,  0.74321145,  0.0997997 ,\n         -0.06198474],\n        [ 0.4049558 ,  0.4302927 ,  0.06956933,  0.23977041, -1.3196119 ,\n          0.1177552 ,  0.5598256 ,  0.28788608, -0.6219842 ,  0.22929913,\n         -0.07776938],\n        [ 0.27015147,  0.41711962,  0.11555709, -0.00563627,  0.63757306,\n          0.08968685,  0.36370012,  0.75463337, -0.39936605,  0.8321833 ,\n          0.11209694],\n        [-0.7537268 , -0.26090413,  0.28879893,  0.53779566, -0.1183611 ,\n         -0.07682963, -0.12067763,  0.36482066,  0.7375318 ,  0.14887686,\n          0.7329299 ],\n        [-0.54401284,  0.08832563,  0.9172095 , -0.81356126, -1.4845133 ,\n         -0.67576987, -0.07660592,  0.14598708,  0.16460751, -0.31825733,\n         -1.1653388 ]], dtype=float32),\n array([ 0.32993636,  0.23827896,  0.31943727,  0.50002587, -0.06744546,\n         0.38094866, -0.5248501 ,  0.26117122,  0.32194704, -0.5618237 ,\n         0.49746072], dtype=float32)]"
          },
          "metadata": {}
        }
      ],
      "execution_count": null
    },
    {
      "cell_type": "code",
      "source": [
        "y_log=model.predict(x_test_scaled)"
      ],
      "metadata": {
        "trusted": true,
        "execution": {
          "iopub.status.busy": "2025-06-25T11:30:43.045431Z",
          "iopub.execute_input": "2025-06-25T11:30:43.045771Z",
          "iopub.status.idle": "2025-06-25T11:30:43.243217Z",
          "shell.execute_reply.started": "2025-06-25T11:30:43.045747Z",
          "shell.execute_reply": "2025-06-25T11:30:43.242303Z"
        },
        "id": "5SdzhATn3oUo",
        "outputId": "37a3382b-a62f-4931-951a-2e108ea5c1a3"
      },
      "outputs": [
        {
          "name": "stdout",
          "text": "\u001b[1m63/63\u001b[0m \u001b[32m━━━━━━━━━━━━━━━━━━━━\u001b[0m\u001b[37m\u001b[0m \u001b[1m0s\u001b[0m 1ms/step\n",
          "output_type": "stream"
        }
      ],
      "execution_count": null
    },
    {
      "cell_type": "code",
      "source": [
        "y_pred=np.where(y_log>0.5,1,0)"
      ],
      "metadata": {
        "trusted": true,
        "execution": {
          "iopub.status.busy": "2025-06-25T11:30:44.304942Z",
          "iopub.execute_input": "2025-06-25T11:30:44.305213Z",
          "iopub.status.idle": "2025-06-25T11:30:44.309996Z",
          "shell.execute_reply.started": "2025-06-25T11:30:44.305195Z",
          "shell.execute_reply": "2025-06-25T11:30:44.309013Z"
        },
        "id": "xFTKefh73oUo"
      },
      "outputs": [],
      "execution_count": null
    },
    {
      "cell_type": "code",
      "source": [
        "from sklearn.metrics import accuracy_score\n",
        "accuracy_score(y_test,y_pred)"
      ],
      "metadata": {
        "trusted": true,
        "execution": {
          "iopub.status.busy": "2025-06-25T11:30:46.279103Z",
          "iopub.execute_input": "2025-06-25T11:30:46.279421Z",
          "iopub.status.idle": "2025-06-25T11:30:46.28786Z",
          "shell.execute_reply.started": "2025-06-25T11:30:46.279394Z",
          "shell.execute_reply": "2025-06-25T11:30:46.286714Z"
        },
        "id": "AZxsa4XA3oUo",
        "outputId": "cb3c493b-a0be-4917-d049-b1e22651a709"
      },
      "outputs": [
        {
          "execution_count": 61,
          "output_type": "execute_result",
          "data": {
            "text/plain": "0.863"
          },
          "metadata": {}
        }
      ],
      "execution_count": null
    },
    {
      "cell_type": "code",
      "source": [
        "import matplotlib.pyplot as plt"
      ],
      "metadata": {
        "trusted": true,
        "execution": {
          "iopub.status.busy": "2025-06-25T11:30:58.655476Z",
          "iopub.execute_input": "2025-06-25T11:30:58.656356Z",
          "iopub.status.idle": "2025-06-25T11:30:58.660254Z",
          "shell.execute_reply.started": "2025-06-25T11:30:58.65633Z",
          "shell.execute_reply": "2025-06-25T11:30:58.659281Z"
        },
        "id": "RW-zh3YP3oUo"
      },
      "outputs": [],
      "execution_count": null
    },
    {
      "cell_type": "code",
      "source": [
        "history.history"
      ],
      "metadata": {
        "trusted": true,
        "execution": {
          "iopub.status.busy": "2025-06-25T11:31:11.36932Z",
          "iopub.execute_input": "2025-06-25T11:31:11.369688Z",
          "iopub.status.idle": "2025-06-25T11:31:11.378567Z",
          "shell.execute_reply.started": "2025-06-25T11:31:11.369659Z",
          "shell.execute_reply": "2025-06-25T11:31:11.377495Z"
        },
        "id": "QVPic-ZP3oUp",
        "outputId": "1f4ec680-6c92-45e7-cecc-43904b2198b5"
      },
      "outputs": [
        {
          "execution_count": 63,
          "output_type": "execute_result",
          "data": {
            "text/plain": "{'accuracy': [0.867968738079071,\n  0.8670312762260437,\n  0.8692187666893005,\n  0.8665624856948853,\n  0.8667187690734863,\n  0.8667187690734863,\n  0.8676562309265137,\n  0.8684375286102295,\n  0.8667187690734863,\n  0.8698437213897705,\n  0.8682812452316284,\n  0.8668749928474426,\n  0.8676562309265137,\n  0.8675000071525574,\n  0.8662499785423279,\n  0.8689062595367432,\n  0.8690624833106995,\n  0.8693749904632568,\n  0.8670312762260437,\n  0.8656250238418579,\n  0.8685937523841858,\n  0.8685937523841858,\n  0.8685937523841858,\n  0.8678125143051147,\n  0.8660937547683716,\n  0.8685937523841858,\n  0.8682812452316284,\n  0.8670312762260437,\n  0.8678125143051147,\n  0.8684375286102295,\n  0.866406261920929,\n  0.8689062595367432,\n  0.8689062595367432,\n  0.8676562309265137,\n  0.8662499785423279,\n  0.8684375286102295,\n  0.8673437237739563,\n  0.8673437237739563,\n  0.8695312738418579,\n  0.8676562309265137,\n  0.867968738079071,\n  0.8693749904632568,\n  0.8681250214576721,\n  0.8678125143051147,\n  0.8667187690734863,\n  0.8689062595367432,\n  0.8690624833106995,\n  0.8684375286102295,\n  0.8675000071525574,\n  0.8687499761581421,\n  0.8687499761581421,\n  0.8673437237739563,\n  0.8698437213897705,\n  0.8692187666893005,\n  0.867968738079071,\n  0.8681250214576721,\n  0.8684375286102295,\n  0.8676562309265137,\n  0.8692187666893005,\n  0.866406261920929,\n  0.867968738079071,\n  0.8695312738418579,\n  0.8684375286102295,\n  0.8689062595367432,\n  0.8684375286102295,\n  0.8692187666893005,\n  0.8673437237739563,\n  0.8693749904632568,\n  0.8685937523841858,\n  0.8698437213897705,\n  0.8682812452316284,\n  0.8675000071525574,\n  0.8675000071525574,\n  0.8712499737739563,\n  0.8682812452316284,\n  0.8701562285423279,\n  0.8687499761581421,\n  0.8671875,\n  0.8698437213897705,\n  0.8682812452316284,\n  0.8682812452316284,\n  0.8696874976158142,\n  0.8681250214576721,\n  0.8698437213897705,\n  0.8700000047683716,\n  0.8698437213897705,\n  0.8687499761581421,\n  0.8678125143051147,\n  0.8693749904632568,\n  0.8687499761581421,\n  0.8714062571525574,\n  0.8696874976158142,\n  0.8693749904632568,\n  0.8692187666893005,\n  0.8684375286102295,\n  0.8693749904632568,\n  0.8698437213897705,\n  0.8700000047683716,\n  0.8706250190734863,\n  0.8689062595367432],\n 'loss': [0.3222818672657013,\n  0.32171082496643066,\n  0.322001576423645,\n  0.3224847912788391,\n  0.3220522999763489,\n  0.32155025005340576,\n  0.3212393522262573,\n  0.3210988938808441,\n  0.3218444585800171,\n  0.321029394865036,\n  0.32161661982536316,\n  0.3210000991821289,\n  0.32204192876815796,\n  0.3213311433792114,\n  0.32061684131622314,\n  0.32074639201164246,\n  0.3212164044380188,\n  0.32020655274391174,\n  0.32082921266555786,\n  0.32074710726737976,\n  0.3207933306694031,\n  0.3206876516342163,\n  0.32063353061676025,\n  0.31980371475219727,\n  0.32023629546165466,\n  0.31995996832847595,\n  0.31982219219207764,\n  0.32002052664756775,\n  0.32017749547958374,\n  0.3197999894618988,\n  0.3203028738498688,\n  0.3199295699596405,\n  0.32004252076148987,\n  0.31951063871383667,\n  0.3197006285190582,\n  0.31920796632766724,\n  0.31949150562286377,\n  0.3195677101612091,\n  0.31886520981788635,\n  0.3188542127609253,\n  0.3194637894630432,\n  0.31910717487335205,\n  0.3186911344528198,\n  0.31914323568344116,\n  0.31911447644233704,\n  0.31883177161216736,\n  0.31872352957725525,\n  0.31848692893981934,\n  0.3200455605983734,\n  0.31783875823020935,\n  0.3184187412261963,\n  0.31830552220344543,\n  0.318285197019577,\n  0.3182534873485565,\n  0.31873270869255066,\n  0.3183843791484833,\n  0.31815779209136963,\n  0.3176073133945465,\n  0.3184768259525299,\n  0.3179939091205597,\n  0.317966103553772,\n  0.31777262687683105,\n  0.3174300193786621,\n  0.31735777854919434,\n  0.3176366686820984,\n  0.3171032965183258,\n  0.31740275025367737,\n  0.3168160319328308,\n  0.31711137294769287,\n  0.31676000356674194,\n  0.3179723620414734,\n  0.31761348247528076,\n  0.31652992963790894,\n  0.31721222400665283,\n  0.3181564211845398,\n  0.3165438175201416,\n  0.31686240434646606,\n  0.3169538974761963,\n  0.3162314295768738,\n  0.31629660725593567,\n  0.3171303868293762,\n  0.3164416551589966,\n  0.31684058904647827,\n  0.31643712520599365,\n  0.3167354166507721,\n  0.31610965728759766,\n  0.31684303283691406,\n  0.31588461995124817,\n  0.31569424271583557,\n  0.31653788685798645,\n  0.31596383452415466,\n  0.3158577084541321,\n  0.31644704937934875,\n  0.31624892354011536,\n  0.3158097565174103,\n  0.31668657064437866,\n  0.3171892464160919,\n  0.315595418214798,\n  0.31532108783721924,\n  0.31602412462234497],\n 'val_accuracy': [0.8487499952316284,\n  0.8493750095367432,\n  0.8512499928474426,\n  0.846875011920929,\n  0.8475000262260437,\n  0.8506249785423279,\n  0.8493750095367432,\n  0.8525000214576721,\n  0.8487499952316284,\n  0.8500000238418579,\n  0.8462499976158142,\n  0.8493750095367432,\n  0.8475000262260437,\n  0.8475000262260437,\n  0.8475000262260437,\n  0.846875011920929,\n  0.8487499952316284,\n  0.8518750071525574,\n  0.8493750095367432,\n  0.8475000262260437,\n  0.8487499952316284,\n  0.8493750095367432,\n  0.8475000262260437,\n  0.8487499952316284,\n  0.8506249785423279,\n  0.8525000214576721,\n  0.8493750095367432,\n  0.8506249785423279,\n  0.8512499928474426,\n  0.846875011920929,\n  0.8512499928474426,\n  0.8512499928474426,\n  0.8525000214576721,\n  0.8481249809265137,\n  0.8481249809265137,\n  0.8493750095367432,\n  0.8512499928474426,\n  0.846875011920929,\n  0.8493750095367432,\n  0.8512499928474426,\n  0.8525000214576721,\n  0.8506249785423279,\n  0.8500000238418579,\n  0.8518750071525574,\n  0.8493750095367432,\n  0.8493750095367432,\n  0.8493750095367432,\n  0.8487499952316284,\n  0.8525000214576721,\n  0.8518750071525574,\n  0.8481249809265137,\n  0.8512499928474426,\n  0.8512499928474426,\n  0.8487499952316284,\n  0.8487499952316284,\n  0.8456249833106995,\n  0.8481249809265137,\n  0.8500000238418579,\n  0.8462499976158142,\n  0.8512499928474426,\n  0.8525000214576721,\n  0.8487499952316284,\n  0.8475000262260437,\n  0.8512499928474426,\n  0.8481249809265137,\n  0.8481249809265137,\n  0.8493750095367432,\n  0.8512499928474426,\n  0.8506249785423279,\n  0.8506249785423279,\n  0.8506249785423279,\n  0.8487499952316284,\n  0.846875011920929,\n  0.8500000238418579,\n  0.8500000238418579,\n  0.8487499952316284,\n  0.8518750071525574,\n  0.8506249785423279,\n  0.8525000214576721,\n  0.8518750071525574,\n  0.8500000238418579,\n  0.8518750071525574,\n  0.8493750095367432,\n  0.8531249761581421,\n  0.8487499952316284,\n  0.8518750071525574,\n  0.8518750071525574,\n  0.8518750071525574,\n  0.8512499928474426,\n  0.8512499928474426,\n  0.8518750071525574,\n  0.8512499928474426,\n  0.8531249761581421,\n  0.8475000262260437,\n  0.8525000214576721,\n  0.8493750095367432,\n  0.8518750071525574,\n  0.8518750071525574,\n  0.8506249785423279,\n  0.8531249761581421],\n 'val_loss': [0.35267993807792664,\n  0.3555781841278076,\n  0.3509141206741333,\n  0.35159870982170105,\n  0.35108086466789246,\n  0.35054638981819153,\n  0.35373228788375854,\n  0.350391685962677,\n  0.35069647431373596,\n  0.3518903851509094,\n  0.3512010872364044,\n  0.3523062765598297,\n  0.35106849670410156,\n  0.35329440236091614,\n  0.352576345205307,\n  0.35372307896614075,\n  0.3534510135650635,\n  0.3530243933200836,\n  0.35310253500938416,\n  0.3510375916957855,\n  0.3532400131225586,\n  0.35361918807029724,\n  0.3520362973213196,\n  0.35636478662490845,\n  0.35109269618988037,\n  0.35141268372535706,\n  0.353074312210083,\n  0.3518204092979431,\n  0.3526557981967926,\n  0.3525886833667755,\n  0.35562336444854736,\n  0.35361915826797485,\n  0.3530740439891815,\n  0.3553435206413269,\n  0.3521871566772461,\n  0.3514283001422882,\n  0.3533283472061157,\n  0.35169026255607605,\n  0.3542567491531372,\n  0.35412541031837463,\n  0.350747674703598,\n  0.3540808856487274,\n  0.35299697518348694,\n  0.3516102731227875,\n  0.35233399271965027,\n  0.3527466058731079,\n  0.3511617183685303,\n  0.352996289730072,\n  0.3527233600616455,\n  0.3522483706474304,\n  0.35287392139434814,\n  0.35292771458625793,\n  0.35364285111427307,\n  0.356273353099823,\n  0.35313060879707336,\n  0.35263046622276306,\n  0.35406115651130676,\n  0.352286159992218,\n  0.3529200255870819,\n  0.35199031233787537,\n  0.3522140383720398,\n  0.35248512029647827,\n  0.35099101066589355,\n  0.35647034645080566,\n  0.35399290919303894,\n  0.35537829995155334,\n  0.3559691607952118,\n  0.3518892526626587,\n  0.3534620702266693,\n  0.3528444766998291,\n  0.35280168056488037,\n  0.35433685779571533,\n  0.3572956323623657,\n  0.35731273889541626,\n  0.3545886278152466,\n  0.3555409908294678,\n  0.3541888892650604,\n  0.3537300229072571,\n  0.35666972398757935,\n  0.3537881076335907,\n  0.3527240753173828,\n  0.35391518473625183,\n  0.3530263900756836,\n  0.3538581430912018,\n  0.355468213558197,\n  0.3566856384277344,\n  0.35483723878860474,\n  0.35462847352027893,\n  0.3541955053806305,\n  0.3568311631679535,\n  0.3540755808353424,\n  0.3533935546875,\n  0.35460418462753296,\n  0.3566642999649048,\n  0.3552771508693695,\n  0.353597491979599,\n  0.3548559248447418,\n  0.3538936972618103,\n  0.35602936148643494,\n  0.35486966371536255]}"
          },
          "metadata": {}
        }
      ],
      "execution_count": null
    },
    {
      "cell_type": "code",
      "source": [
        "plt.plot(history.history['accuracy'])\n",
        "plt.plot(history.history['val_accuracy'])"
      ],
      "metadata": {
        "trusted": true,
        "execution": {
          "iopub.status.busy": "2025-06-25T11:34:01.54065Z",
          "iopub.execute_input": "2025-06-25T11:34:01.541062Z",
          "iopub.status.idle": "2025-06-25T11:34:01.744191Z",
          "shell.execute_reply.started": "2025-06-25T11:34:01.541033Z",
          "shell.execute_reply": "2025-06-25T11:34:01.743044Z"
        },
        "id": "dF_tggFO3oUp",
        "outputId": "5387f47d-404f-4332-c33a-dc921dda8060"
      },
      "outputs": [
        {
          "execution_count": 67,
          "output_type": "execute_result",
          "data": {
            "text/plain": "[<matplotlib.lines.Line2D at 0x7d0b664ec910>]"
          },
          "metadata": {}
        },
        {
          "output_type": "display_data",
          "data": {
            "text/plain": "<Figure size 640x480 with 1 Axes>",
            "image/png": "[encoded data removed]"
          },
          "metadata": {}
        }
      ],
      "execution_count": null
    },
    {
      "cell_type": "code",
      "source": [],
      "metadata": {
        "trusted": true,
        "id": "-x5kM1VI3oUp"
      },
      "outputs": [],
      "execution_count": null
    }
  ]
}